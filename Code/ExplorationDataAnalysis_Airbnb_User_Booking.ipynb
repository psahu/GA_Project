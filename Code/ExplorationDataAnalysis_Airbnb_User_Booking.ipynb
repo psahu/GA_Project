{
 "cells": [
  {
   "cell_type": "code",
   "execution_count": 3,
   "metadata": {
    "collapsed": false
   },
   "outputs": [
    {
     "name": "stderr",
     "output_type": "stream",
     "text": [
      ":0: FutureWarning: IPython widgets are experimental and may change in the future.\n"
     ]
    }
   ],
   "source": [
    "import numpy as np\n",
    "import pandas as pd\n",
    "import matplotlib.pyplot as plt\n",
    "%matplotlib inline\n",
    "from datetime import datetime, date\n",
    "import time\n",
    "import calendar\n",
    "import seaborn as sns"
   ]
  },
  {
   "cell_type": "code",
   "execution_count": 50,
   "metadata": {
    "collapsed": false
   },
   "outputs": [
    {
     "name": "stdout",
     "output_type": "stream",
     "text": [
      "(213451, 16)\n"
     ]
    },
    {
     "data": {
      "text/html": [
       "<div>\n",
       "<table border=\"1\" class=\"dataframe\">\n",
       "  <thead>\n",
       "    <tr style=\"text-align: right;\">\n",
       "      <th></th>\n",
       "      <th>id</th>\n",
       "      <th>date_account_created</th>\n",
       "      <th>timestamp_first_active</th>\n",
       "      <th>date_first_booking</th>\n",
       "      <th>gender</th>\n",
       "      <th>age</th>\n",
       "      <th>signup_method</th>\n",
       "      <th>signup_flow</th>\n",
       "      <th>language</th>\n",
       "      <th>affiliate_channel</th>\n",
       "      <th>affiliate_provider</th>\n",
       "      <th>first_affiliate_tracked</th>\n",
       "      <th>signup_app</th>\n",
       "      <th>first_device_type</th>\n",
       "      <th>first_browser</th>\n",
       "      <th>country_destination</th>\n",
       "    </tr>\n",
       "  </thead>\n",
       "  <tbody>\n",
       "    <tr>\n",
       "      <th>0</th>\n",
       "      <td>gxn3p5htnn</td>\n",
       "      <td>2010-06-28</td>\n",
       "      <td>20090319043255</td>\n",
       "      <td>NaN</td>\n",
       "      <td>-unknown-</td>\n",
       "      <td>NaN</td>\n",
       "      <td>facebook</td>\n",
       "      <td>0</td>\n",
       "      <td>en</td>\n",
       "      <td>direct</td>\n",
       "      <td>direct</td>\n",
       "      <td>untracked</td>\n",
       "      <td>Web</td>\n",
       "      <td>Mac Desktop</td>\n",
       "      <td>Chrome</td>\n",
       "      <td>NDF</td>\n",
       "    </tr>\n",
       "    <tr>\n",
       "      <th>1</th>\n",
       "      <td>820tgsjxq7</td>\n",
       "      <td>2011-05-25</td>\n",
       "      <td>20090523174809</td>\n",
       "      <td>NaN</td>\n",
       "      <td>MALE</td>\n",
       "      <td>38.0</td>\n",
       "      <td>facebook</td>\n",
       "      <td>0</td>\n",
       "      <td>en</td>\n",
       "      <td>seo</td>\n",
       "      <td>google</td>\n",
       "      <td>untracked</td>\n",
       "      <td>Web</td>\n",
       "      <td>Mac Desktop</td>\n",
       "      <td>Chrome</td>\n",
       "      <td>NDF</td>\n",
       "    </tr>\n",
       "    <tr>\n",
       "      <th>2</th>\n",
       "      <td>4ft3gnwmtx</td>\n",
       "      <td>2010-09-28</td>\n",
       "      <td>20090609231247</td>\n",
       "      <td>2010-08-02</td>\n",
       "      <td>FEMALE</td>\n",
       "      <td>56.0</td>\n",
       "      <td>basic</td>\n",
       "      <td>3</td>\n",
       "      <td>en</td>\n",
       "      <td>direct</td>\n",
       "      <td>direct</td>\n",
       "      <td>untracked</td>\n",
       "      <td>Web</td>\n",
       "      <td>Windows Desktop</td>\n",
       "      <td>IE</td>\n",
       "      <td>US</td>\n",
       "    </tr>\n",
       "    <tr>\n",
       "      <th>3</th>\n",
       "      <td>bjjt8pjhuk</td>\n",
       "      <td>2011-12-05</td>\n",
       "      <td>20091031060129</td>\n",
       "      <td>2012-09-08</td>\n",
       "      <td>FEMALE</td>\n",
       "      <td>42.0</td>\n",
       "      <td>facebook</td>\n",
       "      <td>0</td>\n",
       "      <td>en</td>\n",
       "      <td>direct</td>\n",
       "      <td>direct</td>\n",
       "      <td>untracked</td>\n",
       "      <td>Web</td>\n",
       "      <td>Mac Desktop</td>\n",
       "      <td>Firefox</td>\n",
       "      <td>other</td>\n",
       "    </tr>\n",
       "    <tr>\n",
       "      <th>4</th>\n",
       "      <td>87mebub9p4</td>\n",
       "      <td>2010-09-14</td>\n",
       "      <td>20091208061105</td>\n",
       "      <td>2010-02-18</td>\n",
       "      <td>-unknown-</td>\n",
       "      <td>41.0</td>\n",
       "      <td>basic</td>\n",
       "      <td>0</td>\n",
       "      <td>en</td>\n",
       "      <td>direct</td>\n",
       "      <td>direct</td>\n",
       "      <td>untracked</td>\n",
       "      <td>Web</td>\n",
       "      <td>Mac Desktop</td>\n",
       "      <td>Chrome</td>\n",
       "      <td>US</td>\n",
       "    </tr>\n",
       "  </tbody>\n",
       "</table>\n",
       "</div>"
      ],
      "text/plain": [
       "           id date_account_created  timestamp_first_active date_first_booking  \\\n",
       "0  gxn3p5htnn           2010-06-28          20090319043255                NaN   \n",
       "1  820tgsjxq7           2011-05-25          20090523174809                NaN   \n",
       "2  4ft3gnwmtx           2010-09-28          20090609231247         2010-08-02   \n",
       "3  bjjt8pjhuk           2011-12-05          20091031060129         2012-09-08   \n",
       "4  87mebub9p4           2010-09-14          20091208061105         2010-02-18   \n",
       "\n",
       "      gender   age signup_method  signup_flow language affiliate_channel  \\\n",
       "0  -unknown-   NaN      facebook            0       en            direct   \n",
       "1       MALE  38.0      facebook            0       en               seo   \n",
       "2     FEMALE  56.0         basic            3       en            direct   \n",
       "3     FEMALE  42.0      facebook            0       en            direct   \n",
       "4  -unknown-  41.0         basic            0       en            direct   \n",
       "\n",
       "  affiliate_provider first_affiliate_tracked signup_app first_device_type  \\\n",
       "0             direct               untracked        Web       Mac Desktop   \n",
       "1             google               untracked        Web       Mac Desktop   \n",
       "2             direct               untracked        Web   Windows Desktop   \n",
       "3             direct               untracked        Web       Mac Desktop   \n",
       "4             direct               untracked        Web       Mac Desktop   \n",
       "\n",
       "  first_browser country_destination  \n",
       "0        Chrome                 NDF  \n",
       "1        Chrome                 NDF  \n",
       "2            IE                  US  \n",
       "3       Firefox               other  \n",
       "4        Chrome                  US  "
      ]
     },
     "execution_count": 50,
     "metadata": {},
     "output_type": "execute_result"
    }
   ],
   "source": [
    "users = pd.read_csv('~/Documents/GADS/GA_project/data/train_users_2.csv')\n",
    "print users.shape\n",
    "users.head()"
   ]
  },
  {
   "cell_type": "code",
   "execution_count": 51,
   "metadata": {
    "collapsed": false
   },
   "outputs": [
    {
     "data": {
      "text/plain": [
       "id                         False\n",
       "date_account_created       False\n",
       "timestamp_first_active     False\n",
       "date_first_booking          True\n",
       "gender                     False\n",
       "age                         True\n",
       "signup_method              False\n",
       "signup_flow                False\n",
       "language                   False\n",
       "affiliate_channel          False\n",
       "affiliate_provider         False\n",
       "first_affiliate_tracked     True\n",
       "signup_app                 False\n",
       "first_device_type          False\n",
       "first_browser              False\n",
       "country_destination        False\n",
       "dtype: bool"
      ]
     },
     "execution_count": 51,
     "metadata": {},
     "output_type": "execute_result"
    }
   ],
   "source": [
    "# check if there're any null values in any of the columns\n",
    "users.isnull().any()"
   ]
  },
  {
   "cell_type": "code",
   "execution_count": 52,
   "metadata": {
    "collapsed": false
   },
   "outputs": [
    {
     "name": "stdout",
     "output_type": "stream",
     "text": [
      "wm38s2q7pp    1\n",
      "fz8fyrqknz    1\n",
      "g0b5k92fnd    1\n",
      "ptxn4ogd0k    1\n",
      "tzo0e8lk5z    1\n",
      "xt0vzu9vcm    1\n",
      "oajrf3lkii    1\n",
      "3gmgg6ppjh    1\n",
      "j37m27vevg    1\n",
      "d8srr4bsak    1\n",
      "npas2bmqfi    1\n",
      "a7x0r02fnm    1\n",
      "6vaug42gve    1\n",
      "fflgbqfju5    1\n",
      "ckd3ulzf5n    1\n",
      "23y7zgrcvu    1\n",
      "e6bdxdlct8    1\n",
      "72mog8egx1    1\n",
      "np9zqryfyi    1\n",
      "wqe40q2g4o    1\n",
      "ykbrt7wu7k    1\n",
      "fl4wznakez    1\n",
      "cgojos987z    1\n",
      "eom5xrhnci    1\n",
      "no7w34vzmr    1\n",
      "lk3samqnel    1\n",
      "s9ru84sg89    1\n",
      "jtw737orux    1\n",
      "siusf9j73z    1\n",
      "mi8wc5noc3    1\n",
      "             ..\n",
      "rf8x8psk7w    1\n",
      "qeo3b00fxw    1\n",
      "4stkyaj1ta    1\n",
      "yw7jzva3cj    1\n",
      "p36904uano    1\n",
      "dwf36i7e9p    1\n",
      "ywhx0hj3du    1\n",
      "yrqosmstlh    1\n",
      "z324fsmbn2    1\n",
      "q5b88sbhm3    1\n",
      "jkyeehte6r    1\n",
      "xic10kyps0    1\n",
      "r0qtkwla97    1\n",
      "a66hp3h4vg    1\n",
      "3y7ogeflni    1\n",
      "d5qdxyutec    1\n",
      "yuhhmmuqkm    1\n",
      "xd4wb3j3o8    1\n",
      "hyje5jgkhr    1\n",
      "wbfryh8zbb    1\n",
      "ockpf8ry20    1\n",
      "zrybr4wnvz    1\n",
      "89051qhulh    1\n",
      "09nb7istts    1\n",
      "dc3udjfdij    1\n",
      "vi42vea4nb    1\n",
      "8ygwexreru    1\n",
      "5st2vn53qj    1\n",
      "oixuuowelt    1\n",
      "7wcr7si82f    1\n",
      "Name: id, dtype: int64\n",
      "2014-05-13    674\n",
      "2014-06-24    670\n",
      "2014-06-25    636\n",
      "2014-05-20    632\n",
      "2014-05-14    622\n",
      "2014-06-03    602\n",
      "2014-05-21    602\n",
      "2014-06-16    598\n",
      "2014-06-11    593\n",
      "2014-06-30    590\n",
      "2014-05-28    590\n",
      "2014-06-26    587\n",
      "2014-04-23    587\n",
      "2014-06-23    586\n",
      "2014-06-09    577\n",
      "2014-06-19    564\n",
      "2014-06-18    564\n",
      "2014-06-04    562\n",
      "2014-06-27    557\n",
      "2014-05-19    556\n",
      "2014-06-10    555\n",
      "2014-06-05    550\n",
      "2014-06-17    548\n",
      "2014-06-20    544\n",
      "2014-05-22    543\n",
      "2014-05-16    534\n",
      "2014-06-02    534\n",
      "2014-05-15    530\n",
      "2014-06-12    524\n",
      "2014-04-29    519\n",
      "             ... \n",
      "2010-05-29      2\n",
      "2010-03-04      2\n",
      "2010-01-21      2\n",
      "2010-03-28      2\n",
      "2010-06-26      2\n",
      "2010-02-03      2\n",
      "2010-02-07      2\n",
      "2010-02-04      2\n",
      "2010-02-08      2\n",
      "2010-04-16      2\n",
      "2010-01-16      2\n",
      "2010-02-18      2\n",
      "2010-06-12      2\n",
      "2010-02-17      2\n",
      "2010-04-08      2\n",
      "2010-01-30      2\n",
      "2010-01-31      1\n",
      "2010-01-08      1\n",
      "2010-01-01      1\n",
      "2010-01-03      1\n",
      "2010-01-02      1\n",
      "2010-01-23      1\n",
      "2010-04-24      1\n",
      "2010-01-28      1\n",
      "2010-04-11      1\n",
      "2010-03-09      1\n",
      "2010-04-01      1\n",
      "2010-02-14      1\n",
      "2010-06-18      1\n",
      "2010-01-19      1\n",
      "Name: date_account_created, dtype: int64\n",
      "20131002011351    1\n",
      "20130622024754    1\n",
      "20111120235256    1\n",
      "20131118144252    1\n",
      "20131106211656    1\n",
      "20140322022139    1\n",
      "20131206204150    1\n",
      "20121026163433    1\n",
      "20140604224804    1\n",
      "20130913182443    1\n",
      "20130805175021    1\n",
      "20130716031109    1\n",
      "20130630050531    1\n",
      "20140225061611    1\n",
      "20140422200040    1\n",
      "20140204104340    1\n",
      "20130423003804    1\n",
      "20140122072510    1\n",
      "20130718171807    1\n",
      "20130520211735    1\n",
      "20120311052944    1\n",
      "20131023211901    1\n",
      "20140325053639    1\n",
      "20140122073445    1\n",
      "20140627211002    1\n",
      "20140401165047    1\n",
      "20130820183044    1\n",
      "20140128004810    1\n",
      "20130923041501    1\n",
      "20140109085503    1\n",
      "                 ..\n",
      "20120507220715    1\n",
      "20120922205919    1\n",
      "20120908070613    1\n",
      "20100204005644    1\n",
      "20131119221012    1\n",
      "20130818174424    1\n",
      "20130416165229    1\n",
      "20110307191104    1\n",
      "20120827025734    1\n",
      "20130617010552    1\n",
      "20130725011833    1\n",
      "20131107223930    1\n",
      "20131009180027    1\n",
      "20140429050237    1\n",
      "20140625142137    1\n",
      "20140512022937    1\n",
      "20120305052951    1\n",
      "20130513164654    1\n",
      "20140324133150    1\n",
      "20131118190959    1\n",
      "20130416191840    1\n",
      "20120703072932    1\n",
      "20130305032549    1\n",
      "20140529164649    1\n",
      "20140116005143    1\n",
      "20130719183131    1\n",
      "20131022211356    1\n",
      "20131022215454    1\n",
      "20120508143902    1\n",
      "20131104235813    1\n",
      "Name: timestamp_first_active, dtype: int64\n",
      "NaN           124543\n",
      "2014-05-22       248\n",
      "2014-06-11       231\n",
      "2014-06-24       226\n",
      "2014-05-21       225\n",
      "2014-06-10       223\n",
      "2014-06-19       217\n",
      "2014-06-25       216\n",
      "2014-05-14       213\n",
      "2014-05-28       213\n",
      "2014-06-17       211\n",
      "2014-04-29       210\n",
      "2014-05-19       210\n",
      "2014-01-17       209\n",
      "2014-05-20       207\n",
      "2014-06-04       206\n",
      "2014-06-23       205\n",
      "2014-06-13       205\n",
      "2014-06-30       205\n",
      "2014-06-05       201\n",
      "2014-06-03       200\n",
      "2014-06-18       200\n",
      "2014-05-08       199\n",
      "2014-06-26       196\n",
      "2014-05-15       195\n",
      "2014-05-02       193\n",
      "2014-06-20       193\n",
      "2014-05-05       193\n",
      "2014-06-27       191\n",
      "2014-04-11       190\n",
      "               ...  \n",
      "2010-02-06         1\n",
      "2010-02-04         1\n",
      "2010-02-09         1\n",
      "2010-02-15         1\n",
      "2010-02-17         1\n",
      "2010-02-11         1\n",
      "2010-04-11         1\n",
      "2010-02-12         1\n",
      "2010-07-10         1\n",
      "2010-07-12         1\n",
      "2010-07-13         1\n",
      "2010-07-18         1\n",
      "2010-05-25         1\n",
      "2010-04-08         1\n",
      "2010-05-30         1\n",
      "2010-03-18         1\n",
      "2010-03-13         1\n",
      "2010-03-11         1\n",
      "2010-01-09         1\n",
      "2010-01-08         1\n",
      "2010-01-19         1\n",
      "2010-01-05         1\n",
      "2010-01-04         1\n",
      "2010-01-06         1\n",
      "2010-01-02         1\n",
      "2010-03-23         1\n",
      "2010-02-23         1\n",
      "2010-02-20         1\n",
      "2010-09-25         1\n",
      "2010-12-26         1\n",
      "Name: date_first_booking, dtype: int64\n",
      "-unknown-    95688\n",
      "FEMALE       63041\n",
      "MALE         54440\n",
      "OTHER          282\n",
      "Name: gender, dtype: int64\n",
      "NaN        87990\n",
      " 30.0       6124\n",
      " 31.0       6016\n",
      " 29.0       5963\n",
      " 28.0       5939\n",
      " 32.0       5855\n",
      " 27.0       5738\n",
      " 33.0       5527\n",
      " 26.0       5044\n",
      " 34.0       5029\n",
      " 35.0       4860\n",
      " 25.0       4459\n",
      " 36.0       4083\n",
      " 37.0       3694\n",
      " 38.0       3384\n",
      " 24.0       3220\n",
      " 39.0       2998\n",
      " 40.0       2766\n",
      " 41.0       2538\n",
      " 23.0       2462\n",
      " 42.0       2243\n",
      " 45.0       2149\n",
      " 44.0       2137\n",
      " 43.0       2056\n",
      " 46.0       1875\n",
      " 22.0       1702\n",
      " 47.0       1646\n",
      " 48.0       1469\n",
      " 50.0       1387\n",
      " 51.0       1337\n",
      "           ...  \n",
      " 88.0         12\n",
      " 97.0         10\n",
      " 15.0          8\n",
      " 2.0           7\n",
      " 113.0         4\n",
      " 4.0           3\n",
      " 1949.0        3\n",
      " 1931.0        3\n",
      " 1932.0        3\n",
      " 111.0         2\n",
      " 1947.0        2\n",
      " 1929.0        2\n",
      " 1936.0        2\n",
      " 1924.0        2\n",
      " 1928.0        2\n",
      " 1.0           2\n",
      " 2008.0        1\n",
      " 112.0         1\n",
      " 132.0         1\n",
      " 1925.0        1\n",
      " 150.0         1\n",
      " 1995.0        1\n",
      " 1953.0        1\n",
      " 1926.0        1\n",
      " 1942.0        1\n",
      " 1938.0        1\n",
      " 1935.0        1\n",
      " 1933.0        1\n",
      " 1927.0        1\n",
      " 1952.0        1\n",
      "Name: age, dtype: int64\n",
      "basic       152897\n",
      "facebook     60008\n",
      "google         546\n",
      "Name: signup_method, dtype: int64\n",
      "0     164739\n",
      "25     14659\n",
      "12      9329\n",
      "3       8822\n",
      "2       6881\n",
      "24      4328\n",
      "23      2835\n",
      "1       1047\n",
      "6        301\n",
      "8        240\n",
      "21       196\n",
      "5         36\n",
      "20        14\n",
      "16        11\n",
      "15        10\n",
      "10         2\n",
      "4          1\n",
      "Name: signup_flow, dtype: int64\n",
      "en    206314\n",
      "zh      1632\n",
      "fr      1172\n",
      "es       915\n",
      "ko       747\n",
      "de       732\n",
      "it       514\n",
      "ru       389\n",
      "pt       240\n",
      "ja       225\n",
      "sv       122\n",
      "nl        97\n",
      "tr        64\n",
      "da        58\n",
      "pl        54\n",
      "cs        32\n",
      "no        30\n",
      "el        24\n",
      "th        24\n",
      "id        22\n",
      "hu        18\n",
      "fi        14\n",
      "is         5\n",
      "ca         5\n",
      "hr         2\n",
      "Name: language, dtype: int64\n",
      "direct           137727\n",
      "sem-brand         26045\n",
      "sem-non-brand     18844\n",
      "other              8961\n",
      "seo                8663\n",
      "api                8167\n",
      "content            3948\n",
      "remarketing        1096\n",
      "Name: affiliate_channel, dtype: int64\n",
      "direct                 137426\n",
      "google                  51693\n",
      "other                   12549\n",
      "craigslist               3471\n",
      "bing                     2328\n",
      "facebook                 2273\n",
      "vast                      829\n",
      "padmapper                 768\n",
      "facebook-open-graph       545\n",
      "yahoo                     496\n",
      "gsp                       453\n",
      "meetup                    347\n",
      "email-marketing           166\n",
      "naver                      52\n",
      "baidu                      29\n",
      "yandex                     17\n",
      "wayn                        8\n",
      "daum                        1\n",
      "Name: affiliate_provider, dtype: int64\n",
      "untracked        109232\n",
      "linked            46287\n",
      "omg               43982\n",
      "tracked-other      6156\n",
      "NaN                6065\n",
      "product            1556\n",
      "marketing           139\n",
      "local ops            34\n",
      "Name: first_affiliate_tracked, dtype: int64\n",
      "Web        182717\n",
      "iOS         19019\n",
      "Moweb        6261\n",
      "Android      5454\n",
      "Name: signup_app, dtype: int64\n",
      "Mac Desktop           89600\n",
      "Windows Desktop       72716\n",
      "iPhone                20759\n",
      "iPad                  14339\n",
      "Other/Unknown         10667\n",
      "Android Phone          2803\n",
      "Android Tablet         1292\n",
      "Desktop (Other)        1199\n",
      "SmartPhone (Other)       76\n",
      "Name: first_device_type, dtype: int64\n",
      "Chrome                  63845\n",
      "Safari                  45169\n",
      "Firefox                 33655\n",
      "-unknown-               27266\n",
      "IE                      21068\n",
      "Mobile Safari           19274\n",
      "Chrome Mobile            1270\n",
      "Android Browser           851\n",
      "AOL Explorer              245\n",
      "Opera                     188\n",
      "Silk                      124\n",
      "Chromium                   73\n",
      "BlackBerry Browser         53\n",
      "Maxthon                    46\n",
      "IE Mobile                  36\n",
      "Apple Mail                 36\n",
      "Sogou Explorer             33\n",
      "Mobile Firefox             30\n",
      "SiteKiosk                  24\n",
      "RockMelt                   24\n",
      "Iron                       17\n",
      "IceWeasel                  13\n",
      "Pale Moon                  12\n",
      "Yandex.Browser             11\n",
      "SeaMonkey                  11\n",
      "CometBird                  11\n",
      "Camino                      9\n",
      "TenFourFox                  8\n",
      "wOSBrowser                  6\n",
      "CoolNovo                    6\n",
      "Avant Browser               4\n",
      "Opera Mini                  4\n",
      "Mozilla                     3\n",
      "Comodo Dragon               2\n",
      "Flock                       2\n",
      "Opera Mobile                2\n",
      "SlimBrowser                 2\n",
      "OmniWeb                     2\n",
      "Crazy Browser               2\n",
      "TheWorld Browser            2\n",
      "PS Vita browser             1\n",
      "Googlebot                   1\n",
      "IceDragon                   1\n",
      "Stainless                   1\n",
      "Conkeror                    1\n",
      "Outlook 2007                1\n",
      "Palm Pre web browser        1\n",
      "Kindle Browser              1\n",
      "Epic                        1\n",
      "Google Earth                1\n",
      "Arora                       1\n",
      "NetNewsWire                 1\n",
      "Name: first_browser, dtype: int64\n",
      "NDF      124543\n",
      "US        62376\n",
      "other     10094\n",
      "FR         5023\n",
      "IT         2835\n",
      "GB         2324\n",
      "ES         2249\n",
      "CA         1428\n",
      "DE         1061\n",
      "NL          762\n",
      "AU          539\n",
      "PT          217\n",
      "Name: country_destination, dtype: int64\n"
     ]
    }
   ],
   "source": [
    "# check if any other unacceptable values are there for the data\n",
    "for col in users:\n",
    "    print users[col].value_counts(dropna=False) #.sort_values(ascending=False)"
   ]
  },
  {
   "cell_type": "markdown",
   "metadata": {},
   "source": [
    "#1 : Findings\n",
    "\n",
    "\n",
    "1. first_browser  has -unknown-' values.\n",
    "2. gender has '-unknown-' values.\n",
    "3. date_first_booking has NaN values.\n",
    "4. age has NaN values\n",
    "5. first_affiliate_tracked  has NaN values."
   ]
  },
  {
   "cell_type": "code",
   "execution_count": 53,
   "metadata": {
    "collapsed": true
   },
   "outputs": [],
   "source": [
    "# replace '-unknown-' values with \"Other\" values\n",
    "users.gender.replace('-unknown-', 'NotDisclosed', inplace=True) # to match with \"OTHER\" categories present in the data along with Male, and Female.\n",
    "users.first_browser.replace('-unknown-', 'OTHER', inplace=True)"
   ]
  },
  {
   "cell_type": "code",
   "execution_count": 54,
   "metadata": {
    "collapsed": false
   },
   "outputs": [
    {
     "data": {
      "text/plain": [
       "date_first_booking         58.347349\n",
       "age                        41.222576\n",
       "first_affiliate_tracked     2.841402\n",
       "dtype: float64"
      ]
     },
     "execution_count": 54,
     "metadata": {},
     "output_type": "execute_result"
    }
   ],
   "source": [
    "# Let's calculate %age of missing data in each column and display only the missing columns\n",
    "users_nan = (users.isnull().sum()/float(users.shape[0]))*100    #### rounding function throws an error : 'float' object has no attribute '__getitem__'\n",
    "users_nan[users_nan > 0]\n",
    "#users.isnull().sum()"
   ]
  },
  {
   "cell_type": "code",
   "execution_count": 55,
   "metadata": {
    "collapsed": false
   },
   "outputs": [
    {
     "data": {
      "text/plain": [
       "<matplotlib.text.Text at 0x109c83090>"
      ]
     },
     "execution_count": 55,
     "metadata": {},
     "output_type": "execute_result"
    },
    {
     "data": {
      "image/png": "[encoded data removed]",
      "text/plain": [
       "<matplotlib.figure.Figure at 0x1199a78d0>"
      ]
     },
     "metadata": {},
     "output_type": "display_data"
    }
   ],
   "source": [
    "# Let's plot country_destinations\n",
    "users.country_destination.value_counts(dropna=False).plot(kind='bar', color = 'red')\n",
    "plt.xlabel('destination countries')\n",
    "plt.ylabel('No. of rows in the user dataset')"
   ]
  },
  {
   "cell_type": "code",
   "execution_count": 9,
   "metadata": {
    "collapsed": false
   },
   "outputs": [
    {
     "data": {
      "text/plain": [
       "124543"
      ]
     },
     "execution_count": 9,
     "metadata": {},
     "output_type": "execute_result"
    }
   ],
   "source": [
    "users.date_first_booking.isnull().sum()"
   ]
  },
  {
   "cell_type": "code",
   "execution_count": 10,
   "metadata": {
    "collapsed": false
   },
   "outputs": [
    {
     "data": {
      "text/plain": [
       "124543"
      ]
     },
     "execution_count": 10,
     "metadata": {},
     "output_type": "execute_result"
    }
   ],
   "source": [
    "users.country_destination[users.country_destination == 'NDF'].count()"
   ]
  },
  {
   "cell_type": "markdown",
   "metadata": {},
   "source": [
    "#2: Findings\n",
    "About 58.5% of users did not book any destinations. Hence, the date_first_booking is null. Since there are no bookings, there is no \"country_destination\" (labelled : NDF) recorded for those rows. Let's drop these rows since it won't help in the prediction."
   ]
  },
  {
   "cell_type": "code",
   "execution_count": 20,
   "metadata": {
    "collapsed": true
   },
   "outputs": [],
   "source": [
    "users = users[users.country_destination <> 'NDF']"
   ]
  },
  {
   "cell_type": "code",
   "execution_count": 21,
   "metadata": {
    "collapsed": false
   },
   "outputs": [
    {
     "data": {
      "text/plain": [
       "array(['FEMALE', 'NotDisclosed', 'MALE', 'OTHER'], dtype=object)"
      ]
     },
     "execution_count": 21,
     "metadata": {},
     "output_type": "execute_result"
    }
   ],
   "source": [
    "# Gender column\n",
    "users.gender.unique()"
   ]
  },
  {
   "cell_type": "code",
   "execution_count": 22,
   "metadata": {
    "collapsed": false
   },
   "outputs": [
    {
     "data": {
      "text/plain": [
       "FEMALE          35.984388\n",
       "NotDisclosed    32.638233\n",
       "MALE            31.179421\n",
       "OTHER            0.197957\n",
       "Name: gender, dtype: float64"
      ]
     },
     "execution_count": 22,
     "metadata": {},
     "output_type": "execute_result"
    }
   ],
   "source": [
    "(users.gender.value_counts()/users.gender.count())*100"
   ]
  },
  {
   "cell_type": "code",
   "execution_count": 24,
   "metadata": {
    "collapsed": false
   },
   "outputs": [
    {
     "data": {
      "image/png": "[encoded data removed]",
      "text/plain": [
       "<matplotlib.figure.Figure at 0x1104e6850>"
      ]
     },
     "metadata": {},
     "output_type": "display_data"
    }
   ],
   "source": [
    "users.gender.value_counts().plot(kind = 'bar', color = 'green')\n",
    "plt.xlabel('Gender')\n",
    "plt.ylabel('Count')\n",
    "plt.title('Count by gender')\n",
    "plt.legend()\n",
    "plt.tight_layout()\n",
    "plt.show()"
   ]
  },
  {
   "cell_type": "markdown",
   "metadata": {},
   "source": [
    "#3: Findings\n",
    "* Only 176 out of 59890 ( 0.29% of total users) listed their gender as 'Other'. \n",
    "* About 32% of data not listed as either male or female.\n",
    "\n",
    "For the purpose of the project, let's drop these rows."
   ]
  },
  {
   "cell_type": "code",
   "execution_count": 15,
   "metadata": {
    "collapsed": true
   },
   "outputs": [],
   "source": [
    "#users = users[users.gender <> 'OTHER']\n"
   ]
  },
  {
   "cell_type": "code",
   "execution_count": 25,
   "metadata": {
    "collapsed": false
   },
   "outputs": [
    {
     "data": {
      "text/plain": [
       "count    68532.000000\n",
       "mean        47.872629\n",
       "std        146.042716\n",
       "min          2.000000\n",
       "25%         28.000000\n",
       "50%         33.000000\n",
       "75%         42.000000\n",
       "max       2014.000000\n",
       "Name: age, dtype: float64"
      ]
     },
     "execution_count": 25,
     "metadata": {},
     "output_type": "execute_result"
    }
   ],
   "source": [
    "# Age column analysis:\n",
    "users.age.describe()"
   ]
  },
  {
   "cell_type": "code",
   "execution_count": 26,
   "metadata": {
    "collapsed": false
   },
   "outputs": [
    {
     "data": {
      "text/plain": [
       "<matplotlib.axes._subplots.AxesSubplot at 0x1105e4c90>"
      ]
     },
     "execution_count": 26,
     "metadata": {},
     "output_type": "execute_result"
    },
    {
     "data": {
      "image/png": "[encoded data removed]",
      "text/plain": [
       "<matplotlib.figure.Figure at 0x1104f8a10>"
      ]
     },
     "metadata": {},
     "output_type": "display_data"
    }
   ],
   "source": [
    "sns.boxplot(x=\"country_destination\", y=\"age\", data=users)"
   ]
  },
  {
   "cell_type": "code",
   "execution_count": 27,
   "metadata": {
    "collapsed": false
   },
   "outputs": [
    {
     "data": {
      "text/plain": [
       "2014.0    342\n",
       "2013.0     15\n",
       "1949.0      2\n",
       "1947.0      2\n",
       "1932.0      2\n",
       "1929.0      2\n",
       "1924.0      2\n",
       "2008.0      1\n",
       "1942.0      1\n",
       "1938.0      1\n",
       "1936.0      1\n",
       "1935.0      1\n",
       "1931.0      1\n",
       "1926.0      1\n",
       "Name: age, dtype: int64"
      ]
     },
     "execution_count": 27,
     "metadata": {},
     "output_type": "execute_result"
    }
   ],
   "source": [
    "users.age[users.age > 150].value_counts()"
   ]
  },
  {
   "cell_type": "code",
   "execution_count": 30,
   "metadata": {
    "collapsed": false
   },
   "outputs": [
    {
     "data": {
      "text/plain": [
       "29.732095955177922"
      ]
     },
     "execution_count": 30,
     "metadata": {},
     "output_type": "execute_result"
    }
   ],
   "source": [
    "sum((users.age.isnull()/users.age.count())*100)"
   ]
  },
  {
   "cell_type": "markdown",
   "metadata": {},
   "source": [
    "#4: Findings\n",
    "The age data seems to have lot of errous data. \n",
    "* 18 < age < 100 seems to be reasonable age limit of the user for the service based on their sing-up policies and avg age of a person in US. All other entries which claims to be < 18 years of age or > 100 years age seems like erroreous data.\n",
    "* Age ranging anywhere between 1926 - 1949 seems like a year of birth \n",
    "* Age ranging anywhere between 2008 - 2014 seems like year of user sign up\n",
    "* as always, there are about 41% data that are null. \n",
    "\n",
    "For simplification of this project, let's fill all the erroreous and missing age with median age. "
   ]
  },
  {
   "cell_type": "code",
   "execution_count": 32,
   "metadata": {
    "collapsed": false
   },
   "outputs": [],
   "source": [
    "# Let's fill the median age for all missing age \n",
    "users.age.fillna(users.age.median(), inplace=True)"
   ]
  },
  {
   "cell_type": "code",
   "execution_count": 22,
   "metadata": {
    "collapsed": false
   },
   "outputs": [
    {
     "data": {
      "text/plain": [
       "0"
      ]
     },
     "execution_count": 22,
     "metadata": {},
     "output_type": "execute_result"
    }
   ],
   "source": [
    "# Checking if there are any nulls:\n",
    "sum(users.age.isnull())"
   ]
  },
  {
   "cell_type": "code",
   "execution_count": 33,
   "metadata": {
    "collapsed": false
   },
   "outputs": [],
   "source": [
    "# Let's fill median age whereever the age is < 18 or > 100\n",
    "ages = users.age.values\n",
    "ages = np.where(ages > 100, users.age.median(), ages)\n",
    "ages = np.where(ages < 18, users.age.median(), ages)\n",
    "users['age'] = ages"
   ]
  },
  {
   "cell_type": "code",
   "execution_count": 34,
   "metadata": {
    "collapsed": false
   },
   "outputs": [
    {
     "data": {
      "text/plain": [
       "<matplotlib.axes._subplots.AxesSubplot at 0x1101799d0>"
      ]
     },
     "execution_count": 34,
     "metadata": {},
     "output_type": "execute_result"
    },
    {
     "data": {
      "image/png": "[encoded data removed]",
      "text/plain": [
       "<matplotlib.figure.Figure at 0x113385e90>"
      ]
     },
     "metadata": {},
     "output_type": "display_data"
    }
   ],
   "source": [
    "sns.boxplot(x=\"country_destination\", y=\"age\", data=users)"
   ]
  },
  {
   "cell_type": "code",
   "execution_count": null,
   "metadata": {
    "collapsed": true
   },
   "outputs": [],
   "source": [
    "# Null Accuracy (for presentation)"
   ]
  },
  {
   "cell_type": "code",
   "execution_count": 35,
   "metadata": {
    "collapsed": false
   },
   "outputs": [
    {
     "data": {
      "text/plain": [
       "<matplotlib.text.Text at 0x1114cbe10>"
      ]
     },
     "execution_count": 35,
     "metadata": {},
     "output_type": "execute_result"
    },
    {
     "data": {
      "image/png": "[encoded data removed]",
      "text/plain": [
       "<matplotlib.figure.Figure at 0x110c09e10>"
      ]
     },
     "metadata": {},
     "output_type": "display_data"
    }
   ],
   "source": [
    "# Let's plot country_destinations\n",
    "users.country_destination.value_counts(dropna=False).plot(kind='bar', color = 'blue')\n",
    "plt.xlabel('destination countries')\n",
    "plt.ylabel('No. of rows in the user dataset')"
   ]
  },
  {
   "cell_type": "code",
   "execution_count": 38,
   "metadata": {
    "collapsed": false
   },
   "outputs": [
    {
     "data": {
      "text/plain": [
       "untracked        47739\n",
       "linked           20102\n",
       "omg              16425\n",
       "tracked-other     2290\n",
       "product            542\n",
       "marketing           63\n",
       "local ops            9\n",
       "Name: first_affiliate_tracked, dtype: int64"
      ]
     },
     "execution_count": 38,
     "metadata": {},
     "output_type": "execute_result"
    }
   ],
   "source": [
    "users.first_affiliate_tracked.value_counts()"
   ]
  },
  {
   "cell_type": "code",
   "execution_count": 39,
   "metadata": {
    "collapsed": true
   },
   "outputs": [],
   "source": [
    "# Let's take care of NAs in first_affiliate_tracked and first_browser columns\n",
    "# users = users.fillna(-1) # can be used to fill all NAs without inspecting the datatypes but let's replace with 'Other' instead.\n",
    "users.first_affiliate_tracked.fillna('Other', inplace=True)\n",
    "users.first_browser.fillna('Other', inplace=True)\n"
   ]
  },
  {
   "cell_type": "code",
   "execution_count": 40,
   "metadata": {
    "collapsed": false
   },
   "outputs": [
    {
     "data": {
      "text/plain": [
       "id                         0.0\n",
       "date_account_created       0.0\n",
       "timestamp_first_active     0.0\n",
       "date_first_booking         0.0\n",
       "gender                     0.0\n",
       "age                        0.0\n",
       "signup_method              0.0\n",
       "signup_flow                0.0\n",
       "language                   0.0\n",
       "affiliate_channel          0.0\n",
       "affiliate_provider         0.0\n",
       "first_affiliate_tracked    0.0\n",
       "signup_app                 0.0\n",
       "first_device_type          0.0\n",
       "first_browser              0.0\n",
       "country_destination        0.0\n",
       "dtype: float64"
      ]
     },
     "execution_count": 40,
     "metadata": {},
     "output_type": "execute_result"
    }
   ],
   "source": [
    "(users.isnull().sum()/float(users.shape[0]))*100\n"
   ]
  },
  {
   "cell_type": "markdown",
   "metadata": {},
   "source": [
    "## Now that all the missing values and NAs values are taken care in the datasets, Let's find out the data types and see if anything needs to be changed."
   ]
  },
  {
   "cell_type": "code",
   "execution_count": 41,
   "metadata": {
    "collapsed": false
   },
   "outputs": [
    {
     "data": {
      "text/plain": [
       "id                          object\n",
       "date_account_created        object\n",
       "timestamp_first_active       int64\n",
       "date_first_booking          object\n",
       "gender                      object\n",
       "age                        float64\n",
       "signup_method               object\n",
       "signup_flow                  int64\n",
       "language                    object\n",
       "affiliate_channel           object\n",
       "affiliate_provider          object\n",
       "first_affiliate_tracked     object\n",
       "signup_app                  object\n",
       "first_device_type           object\n",
       "first_browser               object\n",
       "country_destination         object\n",
       "dtype: object"
      ]
     },
     "execution_count": 41,
     "metadata": {},
     "output_type": "execute_result"
    }
   ],
   "source": [
    "#find out the datatypes of all columns\n",
    "users.dtypes"
   ]
  },
  {
   "cell_type": "markdown",
   "metadata": {
    "collapsed": true
   },
   "source": [
    "# Let's change the date columns to a datetime object. "
   ]
  },
  {
   "cell_type": "code",
   "execution_count": 42,
   "metadata": {
    "collapsed": false
   },
   "outputs": [],
   "source": [
    "# Change the column types with date fields  to datetime\n",
    "users['date_account_created'] = pd.to_datetime(users['date_account_created'])\n",
    "users['timestamp_first_active'] = pd.to_datetime(users['date_account_created'], format='%Y%m%d%H%M%S') \n",
    "users['date_first_booking'] = pd.to_datetime(users['date_account_created'])"
   ]
  },
  {
   "cell_type": "code",
   "execution_count": 43,
   "metadata": {
    "collapsed": false
   },
   "outputs": [
    {
     "data": {
      "text/html": [
       "<div>\n",
       "<table border=\"1\" class=\"dataframe\">\n",
       "  <thead>\n",
       "    <tr style=\"text-align: right;\">\n",
       "      <th></th>\n",
       "      <th>id</th>\n",
       "      <th>date_account_created</th>\n",
       "      <th>timestamp_first_active</th>\n",
       "      <th>date_first_booking</th>\n",
       "      <th>gender</th>\n",
       "      <th>age</th>\n",
       "      <th>signup_method</th>\n",
       "      <th>signup_flow</th>\n",
       "      <th>language</th>\n",
       "      <th>affiliate_channel</th>\n",
       "      <th>...</th>\n",
       "      <th>first_affiliate_tracked</th>\n",
       "      <th>signup_app</th>\n",
       "      <th>first_device_type</th>\n",
       "      <th>first_browser</th>\n",
       "      <th>country_destination</th>\n",
       "      <th>dac_year</th>\n",
       "      <th>dac_month</th>\n",
       "      <th>dac_day</th>\n",
       "      <th>dac_wn</th>\n",
       "      <th>dac_wd</th>\n",
       "    </tr>\n",
       "  </thead>\n",
       "  <tbody>\n",
       "    <tr>\n",
       "      <th>2</th>\n",
       "      <td>4ft3gnwmtx</td>\n",
       "      <td>2010-09-28</td>\n",
       "      <td>2010-09-28</td>\n",
       "      <td>2010-09-28</td>\n",
       "      <td>FEMALE</td>\n",
       "      <td>56.0</td>\n",
       "      <td>basic</td>\n",
       "      <td>3</td>\n",
       "      <td>en</td>\n",
       "      <td>direct</td>\n",
       "      <td>...</td>\n",
       "      <td>untracked</td>\n",
       "      <td>Web</td>\n",
       "      <td>Windows Desktop</td>\n",
       "      <td>IE</td>\n",
       "      <td>US</td>\n",
       "      <td>2010</td>\n",
       "      <td>9</td>\n",
       "      <td>28</td>\n",
       "      <td>39</td>\n",
       "      <td>Tuesday</td>\n",
       "    </tr>\n",
       "    <tr>\n",
       "      <th>3</th>\n",
       "      <td>bjjt8pjhuk</td>\n",
       "      <td>2011-12-05</td>\n",
       "      <td>2011-12-05</td>\n",
       "      <td>2011-12-05</td>\n",
       "      <td>FEMALE</td>\n",
       "      <td>42.0</td>\n",
       "      <td>facebook</td>\n",
       "      <td>0</td>\n",
       "      <td>en</td>\n",
       "      <td>direct</td>\n",
       "      <td>...</td>\n",
       "      <td>untracked</td>\n",
       "      <td>Web</td>\n",
       "      <td>Mac Desktop</td>\n",
       "      <td>Firefox</td>\n",
       "      <td>other</td>\n",
       "      <td>2011</td>\n",
       "      <td>12</td>\n",
       "      <td>5</td>\n",
       "      <td>49</td>\n",
       "      <td>Monday</td>\n",
       "    </tr>\n",
       "  </tbody>\n",
       "</table>\n",
       "<p>2 rows × 21 columns</p>\n",
       "</div>"
      ],
      "text/plain": [
       "           id date_account_created timestamp_first_active date_first_booking  \\\n",
       "2  4ft3gnwmtx           2010-09-28             2010-09-28         2010-09-28   \n",
       "3  bjjt8pjhuk           2011-12-05             2011-12-05         2011-12-05   \n",
       "\n",
       "   gender   age signup_method  signup_flow language affiliate_channel  \\\n",
       "2  FEMALE  56.0         basic            3       en            direct   \n",
       "3  FEMALE  42.0      facebook            0       en            direct   \n",
       "\n",
       "    ...    first_affiliate_tracked signup_app first_device_type first_browser  \\\n",
       "2   ...                  untracked        Web   Windows Desktop            IE   \n",
       "3   ...                  untracked        Web       Mac Desktop       Firefox   \n",
       "\n",
       "  country_destination dac_year  dac_month  dac_day  dac_wn   dac_wd  \n",
       "2                  US     2010          9       28      39  Tuesday  \n",
       "3               other     2011         12        5      49   Monday  \n",
       "\n",
       "[2 rows x 21 columns]"
      ]
     },
     "execution_count": 43,
     "metadata": {},
     "output_type": "execute_result"
    }
   ],
   "source": [
    "# Make a new year/month/day column for date account created\n",
    "users['dac_year'] = users['date_account_created'].apply(lambda x:x.year)\n",
    "users['dac_month'] = users['date_account_created'].apply(lambda x:x.month)\n",
    "users['dac_day'] = users['date_account_created'].apply(lambda x:x.day)\n",
    "users['dac_wn'] = users['date_account_created'].apply(lambda x:x.isocalendar()[1]) \n",
    "users['dac_wd'] = users['date_account_created'].apply(lambda x:calendar.day_name[x.weekday()])\n",
    "users.head(2)"
   ]
  },
  {
   "cell_type": "code",
   "execution_count": 44,
   "metadata": {
    "collapsed": false
   },
   "outputs": [
    {
     "data": {
      "text/html": [
       "<div>\n",
       "<table border=\"1\" class=\"dataframe\">\n",
       "  <thead>\n",
       "    <tr style=\"text-align: right;\">\n",
       "      <th></th>\n",
       "      <th>id</th>\n",
       "      <th>date_account_created</th>\n",
       "      <th>timestamp_first_active</th>\n",
       "      <th>date_first_booking</th>\n",
       "      <th>gender</th>\n",
       "      <th>age</th>\n",
       "      <th>signup_method</th>\n",
       "      <th>signup_flow</th>\n",
       "      <th>language</th>\n",
       "      <th>affiliate_channel</th>\n",
       "      <th>...</th>\n",
       "      <th>dac_year</th>\n",
       "      <th>dac_month</th>\n",
       "      <th>dac_day</th>\n",
       "      <th>dac_wn</th>\n",
       "      <th>dac_wd</th>\n",
       "      <th>tfa_year</th>\n",
       "      <th>tfa_month</th>\n",
       "      <th>tfa_day</th>\n",
       "      <th>tfa_wn</th>\n",
       "      <th>tfa_wd</th>\n",
       "    </tr>\n",
       "  </thead>\n",
       "  <tbody>\n",
       "    <tr>\n",
       "      <th>2</th>\n",
       "      <td>4ft3gnwmtx</td>\n",
       "      <td>2010-09-28</td>\n",
       "      <td>2010-09-28</td>\n",
       "      <td>2010-09-28</td>\n",
       "      <td>FEMALE</td>\n",
       "      <td>56.0</td>\n",
       "      <td>basic</td>\n",
       "      <td>3</td>\n",
       "      <td>en</td>\n",
       "      <td>direct</td>\n",
       "      <td>...</td>\n",
       "      <td>2010</td>\n",
       "      <td>9</td>\n",
       "      <td>28</td>\n",
       "      <td>39</td>\n",
       "      <td>Tuesday</td>\n",
       "      <td>2010</td>\n",
       "      <td>9</td>\n",
       "      <td>28</td>\n",
       "      <td>39</td>\n",
       "      <td>Tuesday</td>\n",
       "    </tr>\n",
       "    <tr>\n",
       "      <th>3</th>\n",
       "      <td>bjjt8pjhuk</td>\n",
       "      <td>2011-12-05</td>\n",
       "      <td>2011-12-05</td>\n",
       "      <td>2011-12-05</td>\n",
       "      <td>FEMALE</td>\n",
       "      <td>42.0</td>\n",
       "      <td>facebook</td>\n",
       "      <td>0</td>\n",
       "      <td>en</td>\n",
       "      <td>direct</td>\n",
       "      <td>...</td>\n",
       "      <td>2011</td>\n",
       "      <td>12</td>\n",
       "      <td>5</td>\n",
       "      <td>49</td>\n",
       "      <td>Monday</td>\n",
       "      <td>2011</td>\n",
       "      <td>12</td>\n",
       "      <td>5</td>\n",
       "      <td>49</td>\n",
       "      <td>Monday</td>\n",
       "    </tr>\n",
       "  </tbody>\n",
       "</table>\n",
       "<p>2 rows × 26 columns</p>\n",
       "</div>"
      ],
      "text/plain": [
       "           id date_account_created timestamp_first_active date_first_booking  \\\n",
       "2  4ft3gnwmtx           2010-09-28             2010-09-28         2010-09-28   \n",
       "3  bjjt8pjhuk           2011-12-05             2011-12-05         2011-12-05   \n",
       "\n",
       "   gender   age signup_method  signup_flow language affiliate_channel  \\\n",
       "2  FEMALE  56.0         basic            3       en            direct   \n",
       "3  FEMALE  42.0      facebook            0       en            direct   \n",
       "\n",
       "    ...    dac_year dac_month dac_day dac_wn   dac_wd tfa_year  tfa_month  \\\n",
       "2   ...        2010         9      28     39  Tuesday     2010          9   \n",
       "3   ...        2011        12       5     49   Monday     2011         12   \n",
       "\n",
       "   tfa_day  tfa_wn   tfa_wd  \n",
       "2       28      39  Tuesday  \n",
       "3        5      49   Monday  \n",
       "\n",
       "[2 rows x 26 columns]"
      ]
     },
     "execution_count": 44,
     "metadata": {},
     "output_type": "execute_result"
    }
   ],
   "source": [
    "# Make a new year/month/day column for timestamp_first_active \n",
    "users['tfa_year'] = users['timestamp_first_active'].apply(lambda x:x.year)\n",
    "users['tfa_month'] = users['timestamp_first_active'].apply(lambda x:x.month)\n",
    "users['tfa_day'] = users['timestamp_first_active'].apply(lambda x:x.day)\n",
    "users['tfa_wn'] = users['timestamp_first_active'].apply(lambda x:x.isocalendar()[1]) \n",
    "users['tfa_wd'] = users['timestamp_first_active'].apply(lambda x:calendar.day_name[x.weekday()])\n",
    "users.head(2)"
   ]
  },
  {
   "cell_type": "code",
   "execution_count": 45,
   "metadata": {
    "collapsed": false
   },
   "outputs": [
    {
     "data": {
      "text/html": [
       "<div>\n",
       "<table border=\"1\" class=\"dataframe\">\n",
       "  <thead>\n",
       "    <tr style=\"text-align: right;\">\n",
       "      <th></th>\n",
       "      <th>id</th>\n",
       "      <th>date_account_created</th>\n",
       "      <th>timestamp_first_active</th>\n",
       "      <th>date_first_booking</th>\n",
       "      <th>gender</th>\n",
       "      <th>age</th>\n",
       "      <th>signup_method</th>\n",
       "      <th>signup_flow</th>\n",
       "      <th>language</th>\n",
       "      <th>affiliate_channel</th>\n",
       "      <th>...</th>\n",
       "      <th>tfa_year</th>\n",
       "      <th>tfa_month</th>\n",
       "      <th>tfa_day</th>\n",
       "      <th>tfa_wn</th>\n",
       "      <th>tfa_wd</th>\n",
       "      <th>dfb_year</th>\n",
       "      <th>dfb_month</th>\n",
       "      <th>dfb_day</th>\n",
       "      <th>dfb_wn</th>\n",
       "      <th>dfb_wd</th>\n",
       "    </tr>\n",
       "  </thead>\n",
       "  <tbody>\n",
       "    <tr>\n",
       "      <th>2</th>\n",
       "      <td>4ft3gnwmtx</td>\n",
       "      <td>2010-09-28</td>\n",
       "      <td>2010-09-28</td>\n",
       "      <td>2010-09-28</td>\n",
       "      <td>FEMALE</td>\n",
       "      <td>56.0</td>\n",
       "      <td>basic</td>\n",
       "      <td>3</td>\n",
       "      <td>en</td>\n",
       "      <td>direct</td>\n",
       "      <td>...</td>\n",
       "      <td>2010</td>\n",
       "      <td>9</td>\n",
       "      <td>28</td>\n",
       "      <td>39</td>\n",
       "      <td>Tuesday</td>\n",
       "      <td>2010</td>\n",
       "      <td>9</td>\n",
       "      <td>28</td>\n",
       "      <td>39</td>\n",
       "      <td>Tuesday</td>\n",
       "    </tr>\n",
       "    <tr>\n",
       "      <th>3</th>\n",
       "      <td>bjjt8pjhuk</td>\n",
       "      <td>2011-12-05</td>\n",
       "      <td>2011-12-05</td>\n",
       "      <td>2011-12-05</td>\n",
       "      <td>FEMALE</td>\n",
       "      <td>42.0</td>\n",
       "      <td>facebook</td>\n",
       "      <td>0</td>\n",
       "      <td>en</td>\n",
       "      <td>direct</td>\n",
       "      <td>...</td>\n",
       "      <td>2011</td>\n",
       "      <td>12</td>\n",
       "      <td>5</td>\n",
       "      <td>49</td>\n",
       "      <td>Monday</td>\n",
       "      <td>2011</td>\n",
       "      <td>12</td>\n",
       "      <td>5</td>\n",
       "      <td>49</td>\n",
       "      <td>Monday</td>\n",
       "    </tr>\n",
       "  </tbody>\n",
       "</table>\n",
       "<p>2 rows × 31 columns</p>\n",
       "</div>"
      ],
      "text/plain": [
       "           id date_account_created timestamp_first_active date_first_booking  \\\n",
       "2  4ft3gnwmtx           2010-09-28             2010-09-28         2010-09-28   \n",
       "3  bjjt8pjhuk           2011-12-05             2011-12-05         2011-12-05   \n",
       "\n",
       "   gender   age signup_method  signup_flow language affiliate_channel  \\\n",
       "2  FEMALE  56.0         basic            3       en            direct   \n",
       "3  FEMALE  42.0      facebook            0       en            direct   \n",
       "\n",
       "    ...    tfa_year tfa_month tfa_day tfa_wn   tfa_wd dfb_year  dfb_month  \\\n",
       "2   ...        2010         9      28     39  Tuesday     2010          9   \n",
       "3   ...        2011        12       5     49   Monday     2011         12   \n",
       "\n",
       "   dfb_day  dfb_wn   dfb_wd  \n",
       "2       28      39  Tuesday  \n",
       "3        5      49   Monday  \n",
       "\n",
       "[2 rows x 31 columns]"
      ]
     },
     "execution_count": 45,
     "metadata": {},
     "output_type": "execute_result"
    }
   ],
   "source": [
    "# Make a new year/month/day column for date first booking\n",
    "users['dfb_year'] = users['date_first_booking'].apply(lambda x:x.year)\n",
    "users['dfb_month'] = users['date_first_booking'].apply(lambda x:x.month)\n",
    "users['dfb_day'] = users['date_first_booking'].apply(lambda x:x.day)\n",
    "users['dfb_wn'] = users['date_first_booking'].apply(lambda x:x.isocalendar()[1]) \n",
    "users['dfb_wd'] = users['date_first_booking'].apply(lambda x:calendar.day_name[x.weekday()])\n",
    "\n",
    "users.head(2)"
   ]
  },
  {
   "cell_type": "code",
   "execution_count": 46,
   "metadata": {
    "collapsed": false
   },
   "outputs": [
    {
     "name": "stdout",
     "output_type": "stream",
     "text": [
      "count              88908\n",
      "mean     0 days 00:00:00\n",
      "std      0 days 00:00:00\n",
      "min      0 days 00:00:00\n",
      "25%      0 days 00:00:00\n",
      "50%      0 days 00:00:00\n",
      "75%      0 days 00:00:00\n",
      "max      0 days 00:00:00\n",
      "dtype: object\n",
      "count              88908\n",
      "mean     0 days 00:00:00\n",
      "std      0 days 00:00:00\n",
      "min      0 days 00:00:00\n",
      "25%      0 days 00:00:00\n",
      "50%      0 days 00:00:00\n",
      "75%      0 days 00:00:00\n",
      "max      0 days 00:00:00\n",
      "dtype: object\n"
     ]
    }
   ],
   "source": [
    "#time deltas\n",
    "delta_tfa_dac = users['timestamp_first_active'] - users['date_account_created'] #.total_seconds() #time_to_signup\n",
    "delta_tfa_dfb = users['timestamp_first_active'] - users['date_first_booking'] #.total_seconds() #time_to_book\n",
    "print delta_tfa_dac.describe()\n",
    "print delta_tfa_dfb.describe()"
   ]
  },
  {
   "cell_type": "code",
   "execution_count": 47,
   "metadata": {
    "collapsed": false
   },
   "outputs": [
    {
     "data": {
      "text/plain": [
       "\"\\nIf time permits, Let's add season to the dataset: stackoverflow code:\\ndef season(date, hemisphere):\\n    #date is a datetime object\\n    #hemisphere is either 'north' or 'south', dependent on long/lat.\\n    \\n    md = date.month * 100 + date.day\\n\\n    if ((md > 320) and (md < 621)):\\n        s = 0 #spring\\n    elif ((md > 620) and (md < 923)):\\n        s = 1 #summer\\n    elif ((md > 922) and (md < 1223)):\\n        s = 2 #fall\\n    else:\\n        s = 3 #winter\\n\\n    if hemisphere != 'north':\\n        if s < 2:\\n            s += 2 \\n        else:\\n            s -= 2\\n\\n    return s\\n\\n\""
      ]
     },
     "execution_count": 47,
     "metadata": {},
     "output_type": "execute_result"
    }
   ],
   "source": [
    "'''\n",
    "If time permits, Let's add season to the dataset: stackoverflow code:\n",
    "def season(date, hemisphere):\n",
    "    #date is a datetime object\n",
    "    #hemisphere is either 'north' or 'south', dependent on long/lat.\n",
    "    \n",
    "    md = date.month * 100 + date.day\n",
    "\n",
    "    if ((md > 320) and (md < 621)):\n",
    "        s = 0 #spring\n",
    "    elif ((md > 620) and (md < 923)):\n",
    "        s = 1 #summer\n",
    "    elif ((md > 922) and (md < 1223)):\n",
    "        s = 2 #fall\n",
    "    else:\n",
    "        s = 3 #winter\n",
    "\n",
    "    if hemisphere != 'north':\n",
    "        if s < 2:\n",
    "            s += 2 \n",
    "        else:\n",
    "            s -= 2\n",
    "\n",
    "    return s\n",
    "\n",
    "'''"
   ]
  },
  {
   "cell_type": "markdown",
   "metadata": {},
   "source": [
    "#5: Findings\n",
    "\n",
    "* The time taken to signup and time taken to book are calculating as 'Zero days' so do not seems to be relevant for our prediction. However, if the duration in seconds can be determined, that might help.\n",
    "\n",
    "* Hemisphere(South/North) can be determined using Country files’s longitude and latitude information. That information can further be used to determine \"season\". \n",
    "\n",
    "But for the purpose of this project, let’s use only Year/Month/Day/WeekNo/Weekday information. "
   ]
  },
  {
   "cell_type": "markdown",
   "metadata": {},
   "source": [
    "# Some fun facts:"
   ]
  },
  {
   "cell_type": "code",
   "execution_count": 49,
   "metadata": {
    "collapsed": false
   },
   "outputs": [
    {
     "data": {
      "text/plain": [
       "<matplotlib.text.Text at 0x119b38790>"
      ]
     },
     "execution_count": 49,
     "metadata": {},
     "output_type": "execute_result"
    },
    {
     "data": {
      "image/png": "[encoded data removed]",
      "text/plain": [
       "<matplotlib.figure.Figure at 0x11a3a7890>"
      ]
     },
     "metadata": {},
     "output_type": "display_data"
    }
   ],
   "source": [
    "# plotting the date_account_created over time\n",
    "users.date_account_created.value_counts().plot(kind='line', linewidth=1.2, color='blue')\n",
    "plt.xlabel('Account Created Dates')\n",
    "plt.ylabel('No. of sign_ups')\n",
    "plt.title('Airbnb User Growth from year 2010 - 2014')\n"
   ]
  },
  {
   "cell_type": "code",
   "execution_count": 36,
   "metadata": {
    "collapsed": false
   },
   "outputs": [
    {
     "data": {
      "text/plain": [
       "<matplotlib.axes._subplots.AxesSubplot at 0x1130c6e90>"
      ]
     },
     "execution_count": 36,
     "metadata": {},
     "output_type": "execute_result"
    },
    {
     "data": {
      "image/png": "[encoded data removed]",
      "text/plain": [
       "<matplotlib.figure.Figure at 0x1130b5bd0>"
      ]
     },
     "metadata": {},
     "output_type": "display_data"
    }
   ],
   "source": [
    "# popular booking year\n",
    "users.dfb_year.value_counts().plot(kind='bar', color = 'orange')"
   ]
  },
  {
   "cell_type": "code",
   "execution_count": 37,
   "metadata": {
    "collapsed": false
   },
   "outputs": [
    {
     "data": {
      "text/plain": [
       "<matplotlib.axes._subplots.AxesSubplot at 0x111265710>"
      ]
     },
     "execution_count": 37,
     "metadata": {},
     "output_type": "execute_result"
    },
    {
     "data": {
      "image/png": "[encoded data removed]",
      "text/plain": [
       "<matplotlib.figure.Figure at 0x112b08cd0>"
      ]
     },
     "metadata": {},
     "output_type": "display_data"
    }
   ],
   "source": [
    "# popular booking month\n",
    "users.dfb_month.value_counts().plot(kind='bar', color = 'red')\n"
   ]
  },
  {
   "cell_type": "code",
   "execution_count": 38,
   "metadata": {
    "collapsed": false
   },
   "outputs": [
    {
     "data": {
      "text/plain": [
       "<matplotlib.axes._subplots.AxesSubplot at 0x110517810>"
      ]
     },
     "execution_count": 38,
     "metadata": {},
     "output_type": "execute_result"
    },
    {
     "data": {
      "image/png": "[encoded data removed]",
      "text/plain": [
       "<matplotlib.figure.Figure at 0x1109ae550>"
      ]
     },
     "metadata": {},
     "output_type": "display_data"
    }
   ],
   "source": [
    "# popular booking day\n",
    "users.dfb_day.value_counts().plot(kind='bar', color = 'cyan')"
   ]
  },
  {
   "cell_type": "code",
   "execution_count": 39,
   "metadata": {
    "collapsed": false
   },
   "outputs": [
    {
     "data": {
      "text/plain": [
       "<matplotlib.axes._subplots.AxesSubplot at 0x11027ea10>"
      ]
     },
     "execution_count": 39,
     "metadata": {},
     "output_type": "execute_result"
    },
    {
     "data": {
      "image/png": "[encoded data removed]",
      "text/plain": [
       "<matplotlib.figure.Figure at 0x110291390>"
      ]
     },
     "metadata": {},
     "output_type": "display_data"
    }
   ],
   "source": [
    "# popular booking weekday\n",
    "users.dfb_wd.value_counts().plot(kind='bar', color = 'yellow')"
   ]
  },
  {
   "cell_type": "code",
   "execution_count": 40,
   "metadata": {
    "collapsed": false
   },
   "outputs": [
    {
     "data": {
      "text/plain": [
       "(59714, 31)"
      ]
     },
     "execution_count": 40,
     "metadata": {},
     "output_type": "execute_result"
    }
   ],
   "source": [
    "users.shape"
   ]
  },
  {
   "cell_type": "markdown",
   "metadata": {},
   "source": [
    "## Now that all the datatypes are numeric, let's make the dataset ready for prediction by converting them into binary variables or dummies variables."
   ]
  },
  {
   "cell_type": "code",
   "execution_count": 41,
   "metadata": {
    "collapsed": false
   },
   "outputs": [
    {
     "data": {
      "text/plain": [
       "Index([u'id', u'date_account_created', u'timestamp_first_active',\n",
       "       u'date_first_booking', u'gender', u'age', u'signup_method',\n",
       "       u'signup_flow', u'language', u'affiliate_channel',\n",
       "       u'affiliate_provider', u'first_affiliate_tracked', u'signup_app',\n",
       "       u'first_device_type', u'first_browser', u'country_destination',\n",
       "       u'dac_year', u'dac_month', u'dac_day', u'dac_wn', u'dac_wd',\n",
       "       u'tfa_year', u'tfa_month', u'tfa_day', u'tfa_wn', u'tfa_wd',\n",
       "       u'dfb_year', u'dfb_month', u'dfb_day', u'dfb_wn', u'dfb_wd'],\n",
       "      dtype='object')"
      ]
     },
     "execution_count": 41,
     "metadata": {},
     "output_type": "execute_result"
    }
   ],
   "source": [
    "users.columns"
   ]
  },
  {
   "cell_type": "code",
   "execution_count": 42,
   "metadata": {
    "collapsed": false
   },
   "outputs": [],
   "source": [
    "# Date dummies:\n",
    "\n",
    "#DAC\n",
    "users_dac_month = pd.get_dummies(users.dac_month, prefix='dac_month')\n",
    "users_dac_day = pd.get_dummies(users.dac_day, prefix='dac_day')\n",
    "users_dac_wn = pd.get_dummies(users.dac_wn, prefix='dac_wn')\n",
    "users_dac_wd = pd.get_dummies(users.dac_wd, prefix='dac_wd')\n",
    "\n",
    "# drop the original columns for which dummies are created\n",
    "users = users.drop(['date_account_created', 'dac_month', 'dac_day', 'dac_wn', 'dac_wd'], axis=1)\n",
    "\n",
    "# concat with the name dataframe\n",
    "users = pd.concat((users, users_dac_month, users_dac_day, users_dac_wn, users_dac_wd), axis=1)\n",
    "\n",
    "# TFA\n",
    "users_tfa_month = pd.get_dummies(users.tfa_month, prefix='tfa_month')\n",
    "users_tfa_day = pd.get_dummies(users.tfa_day, prefix='tfa_day')\n",
    "users_tfa_wn = pd.get_dummies(users.tfa_wn, prefix='tfa_wn')\n",
    "users_tfa_wd = pd.get_dummies(users.tfa_wd, prefix='tfa_wd')\n",
    "\n",
    "users = users.drop(['timestamp_first_active', 'tfa_month', 'tfa_day', 'tfa_wn', 'tfa_wd'], axis=1)\n",
    "\n",
    "users = pd.concat((users, users_tfa_month, users_tfa_day, users_tfa_wn, users_tfa_wd), axis=1)\n",
    "\n",
    "#DFB\n",
    "users_dfb_month = pd.get_dummies(users.dfb_month, prefix='dfb_month')\n",
    "users_dfb_day = pd.get_dummies(users.dfb_day, prefix='dfb_day')\n",
    "users_dfb_wn = pd.get_dummies(users.dfb_wn, prefix='dfb_wn')\n",
    "users_dfb_wd = pd.get_dummies(users.dfb_wd, prefix='dfb_wd')\n",
    "\n",
    "users = users.drop(['date_first_booking', 'dfb_month', 'dfb_day', 'dfb_wn', 'dfb_wd'], axis=1)\n",
    "\n",
    "users = pd.concat((users, users_dfb_month, users_dfb_day, users_dfb_wn, users_dfb_wd), axis=1)"
   ]
  },
  {
   "cell_type": "code",
   "execution_count": 43,
   "metadata": {
    "collapsed": false
   },
   "outputs": [],
   "source": [
    "# Rest of the columns except age\n",
    "col_names = ['gender', 'signup_method', 'signup_flow', 'language', 'affiliate_channel', 'affiliate_provider', \\\n",
    "             'first_affiliate_tracked', 'signup_app', 'first_device_type', 'first_browser']\n",
    "for c in col_names:\n",
    "    users_dummy = pd.get_dummies(users[c], prefix=c)\n",
    "    users = users.drop([c], axis=1)\n",
    "    users = pd.concat((users, users_dummy), axis=1)\n",
    "    \n",
    "# age, user_id - main df\n",
    "# dates done seperately"
   ]
  },
  {
   "cell_type": "code",
   "execution_count": 44,
   "metadata": {
    "collapsed": false
   },
   "outputs": [
    {
     "data": {
      "text/plain": [
       "(59714, 442)"
      ]
     },
     "execution_count": 44,
     "metadata": {},
     "output_type": "execute_result"
    }
   ],
   "source": [
    "users.shape"
   ]
  },
  {
   "cell_type": "markdown",
   "metadata": {},
   "source": [
    "# Now that the user data is ready, Let's review and clean the session data "
   ]
  },
  {
   "cell_type": "markdown",
   "metadata": {},
   "source": [
    "#Session Data\n",
    "\n",
    "## web sessions log for users\n",
    "* user_id: to be joined with the column 'id' in users table\n",
    "* action\n",
    "* action_type\n",
    "* action_detail\n",
    "* device_type\n",
    "* secs_elapsed"
   ]
  },
  {
   "cell_type": "code",
   "execution_count": 45,
   "metadata": {
    "collapsed": false
   },
   "outputs": [
    {
     "name": "stdout",
     "output_type": "stream",
     "text": [
      "(10567737, 6)\n"
     ]
    },
    {
     "data": {
      "text/html": [
       "<div>\n",
       "<table border=\"1\" class=\"dataframe\">\n",
       "  <thead>\n",
       "    <tr style=\"text-align: right;\">\n",
       "      <th></th>\n",
       "      <th>user_id</th>\n",
       "      <th>action</th>\n",
       "      <th>action_type</th>\n",
       "      <th>action_detail</th>\n",
       "      <th>device_type</th>\n",
       "      <th>secs_elapsed</th>\n",
       "    </tr>\n",
       "  </thead>\n",
       "  <tbody>\n",
       "    <tr>\n",
       "      <th>0</th>\n",
       "      <td>d1mm9tcy42</td>\n",
       "      <td>lookup</td>\n",
       "      <td>NaN</td>\n",
       "      <td>NaN</td>\n",
       "      <td>Windows Desktop</td>\n",
       "      <td>319.0</td>\n",
       "    </tr>\n",
       "    <tr>\n",
       "      <th>1</th>\n",
       "      <td>d1mm9tcy42</td>\n",
       "      <td>search_results</td>\n",
       "      <td>click</td>\n",
       "      <td>view_search_results</td>\n",
       "      <td>Windows Desktop</td>\n",
       "      <td>67753.0</td>\n",
       "    </tr>\n",
       "    <tr>\n",
       "      <th>2</th>\n",
       "      <td>d1mm9tcy42</td>\n",
       "      <td>lookup</td>\n",
       "      <td>NaN</td>\n",
       "      <td>NaN</td>\n",
       "      <td>Windows Desktop</td>\n",
       "      <td>301.0</td>\n",
       "    </tr>\n",
       "    <tr>\n",
       "      <th>3</th>\n",
       "      <td>d1mm9tcy42</td>\n",
       "      <td>search_results</td>\n",
       "      <td>click</td>\n",
       "      <td>view_search_results</td>\n",
       "      <td>Windows Desktop</td>\n",
       "      <td>22141.0</td>\n",
       "    </tr>\n",
       "    <tr>\n",
       "      <th>4</th>\n",
       "      <td>d1mm9tcy42</td>\n",
       "      <td>lookup</td>\n",
       "      <td>NaN</td>\n",
       "      <td>NaN</td>\n",
       "      <td>Windows Desktop</td>\n",
       "      <td>435.0</td>\n",
       "    </tr>\n",
       "  </tbody>\n",
       "</table>\n",
       "</div>"
      ],
      "text/plain": [
       "      user_id          action action_type        action_detail  \\\n",
       "0  d1mm9tcy42          lookup         NaN                  NaN   \n",
       "1  d1mm9tcy42  search_results       click  view_search_results   \n",
       "2  d1mm9tcy42          lookup         NaN                  NaN   \n",
       "3  d1mm9tcy42  search_results       click  view_search_results   \n",
       "4  d1mm9tcy42          lookup         NaN                  NaN   \n",
       "\n",
       "       device_type  secs_elapsed  \n",
       "0  Windows Desktop         319.0  \n",
       "1  Windows Desktop       67753.0  \n",
       "2  Windows Desktop         301.0  \n",
       "3  Windows Desktop       22141.0  \n",
       "4  Windows Desktop         435.0  "
      ]
     },
     "execution_count": 45,
     "metadata": {},
     "output_type": "execute_result"
    }
   ],
   "source": [
    "sessions = pd.read_csv('~/Documents/GADS/GA_project/data/sessions.csv')\n",
    "print sessions.shape\n",
    "sessions.head()"
   ]
  },
  {
   "cell_type": "code",
   "execution_count": 46,
   "metadata": {
    "collapsed": false
   },
   "outputs": [
    {
     "data": {
      "text/plain": [
       "user_id           True\n",
       "action            True\n",
       "action_type       True\n",
       "action_detail     True\n",
       "device_type      False\n",
       "secs_elapsed      True\n",
       "dtype: bool"
      ]
     },
     "execution_count": 46,
     "metadata": {},
     "output_type": "execute_result"
    }
   ],
   "source": [
    "sessions.isnull().any()"
   ]
  },
  {
   "cell_type": "code",
   "execution_count": 47,
   "metadata": {
    "collapsed": true
   },
   "outputs": [],
   "source": [
    "# replace unknown values with NaN values\n",
    "sessions.action.replace('-unknown-', np.NaN, inplace=True)\n",
    "sessions.action_type.replace('-unknown-', np.NaN, inplace=True)\n",
    "sessions.action_detail.replace('-unknown-', np.NaN, inplace=True)\n",
    "sessions.device_type.replace('-unknown-', np.NaN, inplace=True)"
   ]
  },
  {
   "cell_type": "code",
   "execution_count": 48,
   "metadata": {
    "collapsed": true
   },
   "outputs": [],
   "source": [
    "# fill in unknown values\n",
    "sessions.action = sessions.action.fillna('Other')\n",
    "sessions.action_type = sessions.action_type.fillna('Other')\n",
    "sessions.action_detail = sessions.action_detail.fillna('Other')\n",
    "sessions.device_type = sessions.device_type.fillna('Other')"
   ]
  },
  {
   "cell_type": "code",
   "execution_count": 49,
   "metadata": {
    "collapsed": false
   },
   "outputs": [
    {
     "data": {
      "text/plain": [
       "user_id         0.326428\n",
       "secs_elapsed    1.287229\n",
       "dtype: float64"
      ]
     },
     "execution_count": 49,
     "metadata": {},
     "output_type": "execute_result"
    }
   ],
   "source": [
    "# Let's calculate %age of missing data in each column and display only the missing columns\n",
    "sessions_nan = (sessions.isnull().sum()/float(sessions.shape[0]))*100 \n",
    "sessions_nan[sessions_nan > 0]"
   ]
  },
  {
   "cell_type": "code",
   "execution_count": 50,
   "metadata": {
    "collapsed": false
   },
   "outputs": [
    {
     "data": {
      "text/html": [
       "<div>\n",
       "<table border=\"1\" class=\"dataframe\">\n",
       "  <thead>\n",
       "    <tr style=\"text-align: right;\">\n",
       "      <th></th>\n",
       "      <th>action</th>\n",
       "    </tr>\n",
       "  </thead>\n",
       "  <tbody>\n",
       "    <tr>\n",
       "      <th>show</th>\n",
       "      <td>26.195561</td>\n",
       "    </tr>\n",
       "    <tr>\n",
       "      <th>index</th>\n",
       "      <td>7.983724</td>\n",
       "    </tr>\n",
       "    <tr>\n",
       "      <th>search_results</th>\n",
       "      <td>6.862642</td>\n",
       "    </tr>\n",
       "    <tr>\n",
       "      <th>personalize</th>\n",
       "      <td>6.688509</td>\n",
       "    </tr>\n",
       "    <tr>\n",
       "      <th>search</th>\n",
       "      <td>5.072581</td>\n",
       "    </tr>\n",
       "    <tr>\n",
       "      <th>ajax_refresh_subtotal</th>\n",
       "      <td>4.615406</td>\n",
       "    </tr>\n",
       "    <tr>\n",
       "      <th>update</th>\n",
       "      <td>3.455139</td>\n",
       "    </tr>\n",
       "    <tr>\n",
       "      <th>similar_listings</th>\n",
       "      <td>3.450351</td>\n",
       "    </tr>\n",
       "    <tr>\n",
       "      <th>social_connections</th>\n",
       "      <td>3.207877</td>\n",
       "    </tr>\n",
       "    <tr>\n",
       "      <th>reviews</th>\n",
       "      <td>3.033677</td>\n",
       "    </tr>\n",
       "  </tbody>\n",
       "</table>\n",
       "</div>"
      ],
      "text/plain": [
       "                          action\n",
       "show                   26.195561\n",
       "index                   7.983724\n",
       "search_results          6.862642\n",
       "personalize             6.688509\n",
       "search                  5.072581\n",
       "ajax_refresh_subtotal   4.615406\n",
       "update                  3.455139\n",
       "similar_listings        3.450351\n",
       "social_connections      3.207877\n",
       "reviews                 3.033677"
      ]
     },
     "execution_count": 50,
     "metadata": {},
     "output_type": "execute_result"
    }
   ],
   "source": [
    "# Top 10 action percentages \n",
    "action = ((sessions.action.value_counts()/sessions.action.count())*100).to_frame()\n",
    "action.head(10)"
   ]
  },
  {
   "cell_type": "code",
   "execution_count": 51,
   "metadata": {
    "collapsed": false
   },
   "outputs": [
    {
     "data": {
      "text/html": [
       "<div>\n",
       "<table border=\"1\" class=\"dataframe\">\n",
       "  <thead>\n",
       "    <tr style=\"text-align: right;\">\n",
       "      <th></th>\n",
       "      <th>action_type</th>\n",
       "    </tr>\n",
       "  </thead>\n",
       "  <tbody>\n",
       "    <tr>\n",
       "      <th>view</th>\n",
       "      <td>33.695975</td>\n",
       "    </tr>\n",
       "    <tr>\n",
       "      <th>Other</th>\n",
       "      <td>20.414721</td>\n",
       "    </tr>\n",
       "    <tr>\n",
       "      <th>data</th>\n",
       "      <td>19.907479</td>\n",
       "    </tr>\n",
       "    <tr>\n",
       "      <th>click</th>\n",
       "      <td>18.889408</td>\n",
       "    </tr>\n",
       "    <tr>\n",
       "      <th>submit</th>\n",
       "      <td>5.898680</td>\n",
       "    </tr>\n",
       "    <tr>\n",
       "      <th>message_post</th>\n",
       "      <td>0.824235</td>\n",
       "    </tr>\n",
       "    <tr>\n",
       "      <th>partner_callback</th>\n",
       "      <td>0.181042</td>\n",
       "    </tr>\n",
       "    <tr>\n",
       "      <th>booking_request</th>\n",
       "      <td>0.177644</td>\n",
       "    </tr>\n",
       "    <tr>\n",
       "      <th>modify</th>\n",
       "      <td>0.010778</td>\n",
       "    </tr>\n",
       "    <tr>\n",
       "      <th>booking_response</th>\n",
       "      <td>0.000038</td>\n",
       "    </tr>\n",
       "  </tbody>\n",
       "</table>\n",
       "</div>"
      ],
      "text/plain": [
       "                  action_type\n",
       "view                33.695975\n",
       "Other               20.414721\n",
       "data                19.907479\n",
       "click               18.889408\n",
       "submit               5.898680\n",
       "message_post         0.824235\n",
       "partner_callback     0.181042\n",
       "booking_request      0.177644\n",
       "modify               0.010778\n",
       "booking_response     0.000038"
      ]
     },
     "execution_count": 51,
     "metadata": {},
     "output_type": "execute_result"
    }
   ],
   "source": [
    "# Top 10 action types\n",
    "action_type = ((sessions.action_type.value_counts()/sessions.action_type.count())*100).to_frame()\n",
    "action_type.head(10)"
   ]
  },
  {
   "cell_type": "code",
   "execution_count": 52,
   "metadata": {
    "collapsed": false
   },
   "outputs": [
    {
     "data": {
      "text/html": [
       "<div>\n",
       "<table border=\"1\" class=\"dataframe\">\n",
       "  <thead>\n",
       "    <tr style=\"text-align: right;\">\n",
       "      <th></th>\n",
       "      <th>action_detail</th>\n",
       "    </tr>\n",
       "  </thead>\n",
       "  <tbody>\n",
       "    <tr>\n",
       "      <th>Other</th>\n",
       "      <td>20.414446</td>\n",
       "    </tr>\n",
       "    <tr>\n",
       "      <th>view_search_results</th>\n",
       "      <td>16.814243</td>\n",
       "    </tr>\n",
       "    <tr>\n",
       "      <th>p3</th>\n",
       "      <td>13.025968</td>\n",
       "    </tr>\n",
       "    <tr>\n",
       "      <th>wishlist_content_update</th>\n",
       "      <td>6.688509</td>\n",
       "    </tr>\n",
       "    <tr>\n",
       "      <th>user_profile</th>\n",
       "      <td>6.215512</td>\n",
       "    </tr>\n",
       "    <tr>\n",
       "      <th>change_trip_characteristics</th>\n",
       "      <td>4.615406</td>\n",
       "    </tr>\n",
       "    <tr>\n",
       "      <th>similar_listings</th>\n",
       "      <td>3.450351</td>\n",
       "    </tr>\n",
       "    <tr>\n",
       "      <th>user_social_connections</th>\n",
       "      <td>3.187049</td>\n",
       "    </tr>\n",
       "    <tr>\n",
       "      <th>update_listing</th>\n",
       "      <td>2.552855</td>\n",
       "    </tr>\n",
       "    <tr>\n",
       "      <th>listing_reviews</th>\n",
       "      <td>2.545682</td>\n",
       "    </tr>\n",
       "  </tbody>\n",
       "</table>\n",
       "</div>"
      ],
      "text/plain": [
       "                             action_detail\n",
       "Other                            20.414446\n",
       "view_search_results              16.814243\n",
       "p3                               13.025968\n",
       "wishlist_content_update           6.688509\n",
       "user_profile                      6.215512\n",
       "change_trip_characteristics       4.615406\n",
       "similar_listings                  3.450351\n",
       "user_social_connections           3.187049\n",
       "update_listing                    2.552855\n",
       "listing_reviews                   2.545682"
      ]
     },
     "execution_count": 52,
     "metadata": {},
     "output_type": "execute_result"
    }
   ],
   "source": [
    "# Top 10 action detail in %age\n",
    "action_detail = ((sessions.action_detail.value_counts()/sessions.action_detail.count())*100).to_frame().head(10)\n",
    "action_detail"
   ]
  },
  {
   "cell_type": "code",
   "execution_count": 53,
   "metadata": {
    "collapsed": false
   },
   "outputs": [
    {
     "data": {
      "text/html": [
       "<div>\n",
       "<table border=\"1\" class=\"dataframe\">\n",
       "  <thead>\n",
       "    <tr style=\"text-align: right;\">\n",
       "      <th></th>\n",
       "      <th>device_type</th>\n",
       "    </tr>\n",
       "  </thead>\n",
       "  <tbody>\n",
       "    <tr>\n",
       "      <th>Mac Desktop</th>\n",
       "      <td>34.011880</td>\n",
       "    </tr>\n",
       "    <tr>\n",
       "      <th>Windows Desktop</th>\n",
       "      <td>25.157127</td>\n",
       "    </tr>\n",
       "    <tr>\n",
       "      <th>iPhone</th>\n",
       "      <td>19.919411</td>\n",
       "    </tr>\n",
       "    <tr>\n",
       "      <th>Android Phone</th>\n",
       "      <td>7.945287</td>\n",
       "    </tr>\n",
       "    <tr>\n",
       "      <th>iPad Tablet</th>\n",
       "      <td>6.466985</td>\n",
       "    </tr>\n",
       "    <tr>\n",
       "      <th>Android App Unknown Phone/Tablet</th>\n",
       "      <td>2.589504</td>\n",
       "    </tr>\n",
       "    <tr>\n",
       "      <th>Other</th>\n",
       "      <td>1.999283</td>\n",
       "    </tr>\n",
       "    <tr>\n",
       "      <th>Tablet</th>\n",
       "      <td>1.323708</td>\n",
       "    </tr>\n",
       "    <tr>\n",
       "      <th>Linux Desktop</th>\n",
       "      <td>0.268487</td>\n",
       "    </tr>\n",
       "    <tr>\n",
       "      <th>Chromebook</th>\n",
       "      <td>0.211474</td>\n",
       "    </tr>\n",
       "    <tr>\n",
       "      <th>iPodtouch</th>\n",
       "      <td>0.077576</td>\n",
       "    </tr>\n",
       "    <tr>\n",
       "      <th>Windows Phone</th>\n",
       "      <td>0.019370</td>\n",
       "    </tr>\n",
       "    <tr>\n",
       "      <th>Blackberry</th>\n",
       "      <td>0.009264</td>\n",
       "    </tr>\n",
       "    <tr>\n",
       "      <th>Opera Phone</th>\n",
       "      <td>0.000643</td>\n",
       "    </tr>\n",
       "  </tbody>\n",
       "</table>\n",
       "</div>"
      ],
      "text/plain": [
       "                                  device_type\n",
       "Mac Desktop                         34.011880\n",
       "Windows Desktop                     25.157127\n",
       "iPhone                              19.919411\n",
       "Android Phone                        7.945287\n",
       "iPad Tablet                          6.466985\n",
       "Android App Unknown Phone/Tablet     2.589504\n",
       "Other                                1.999283\n",
       "Tablet                               1.323708\n",
       "Linux Desktop                        0.268487\n",
       "Chromebook                           0.211474\n",
       "iPodtouch                            0.077576\n",
       "Windows Phone                        0.019370\n",
       "Blackberry                           0.009264\n",
       "Opera Phone                          0.000643"
      ]
     },
     "execution_count": 53,
     "metadata": {},
     "output_type": "execute_result"
    }
   ],
   "source": [
    "# Top 10 Device types used in browsing in perctanges\n",
    "device = ((sessions.device_type.value_counts()/sessions.device_type.count())*100).to_frame()\n",
    "device"
   ]
  },
  {
   "cell_type": "markdown",
   "metadata": {},
   "source": [
    "# Fun Facts:"
   ]
  },
  {
   "cell_type": "code",
   "execution_count": 54,
   "metadata": {
    "collapsed": false
   },
   "outputs": [
    {
     "data": {
      "text/plain": [
       "<matplotlib.axes._subplots.AxesSubplot at 0x1131c9110>"
      ]
     },
     "execution_count": 54,
     "metadata": {},
     "output_type": "execute_result"
    },
    {
     "data": {
      "image/png": "[encoded data removed]",
      "text/plain": [
       "<matplotlib.figure.Figure at 0x1131c9810>"
      ]
     },
     "metadata": {},
     "output_type": "display_data"
    }
   ],
   "source": [
    "# device distribution over all sessions\n",
    "device.plot(kind='bar', color='black')"
   ]
  },
  {
   "cell_type": "code",
   "execution_count": 55,
   "metadata": {
    "collapsed": true
   },
   "outputs": [],
   "source": [
    "# removing few columns for ease of use #testing\n",
    "\n",
    "scols = [col for col in sessions.columns if col not in ['action', 'action_detail']]\n",
    "sessions = sessions[scols]\n"
   ]
  },
  {
   "cell_type": "code",
   "execution_count": 56,
   "metadata": {
    "collapsed": false
   },
   "outputs": [
    {
     "data": {
      "text/html": [
       "<div>\n",
       "<table border=\"1\" class=\"dataframe\">\n",
       "  <thead>\n",
       "    <tr style=\"text-align: right;\">\n",
       "      <th></th>\n",
       "      <th>user_id</th>\n",
       "      <th>action_type</th>\n",
       "      <th>device_type</th>\n",
       "      <th>secs_elapsed</th>\n",
       "    </tr>\n",
       "  </thead>\n",
       "  <tbody>\n",
       "    <tr>\n",
       "      <th>0</th>\n",
       "      <td>d1mm9tcy42</td>\n",
       "      <td>Other</td>\n",
       "      <td>Windows Desktop</td>\n",
       "      <td>319.0</td>\n",
       "    </tr>\n",
       "    <tr>\n",
       "      <th>1</th>\n",
       "      <td>d1mm9tcy42</td>\n",
       "      <td>click</td>\n",
       "      <td>Windows Desktop</td>\n",
       "      <td>67753.0</td>\n",
       "    </tr>\n",
       "    <tr>\n",
       "      <th>2</th>\n",
       "      <td>d1mm9tcy42</td>\n",
       "      <td>Other</td>\n",
       "      <td>Windows Desktop</td>\n",
       "      <td>301.0</td>\n",
       "    </tr>\n",
       "    <tr>\n",
       "      <th>3</th>\n",
       "      <td>d1mm9tcy42</td>\n",
       "      <td>click</td>\n",
       "      <td>Windows Desktop</td>\n",
       "      <td>22141.0</td>\n",
       "    </tr>\n",
       "    <tr>\n",
       "      <th>4</th>\n",
       "      <td>d1mm9tcy42</td>\n",
       "      <td>Other</td>\n",
       "      <td>Windows Desktop</td>\n",
       "      <td>435.0</td>\n",
       "    </tr>\n",
       "  </tbody>\n",
       "</table>\n",
       "</div>"
      ],
      "text/plain": [
       "      user_id action_type      device_type  secs_elapsed\n",
       "0  d1mm9tcy42       Other  Windows Desktop         319.0\n",
       "1  d1mm9tcy42       click  Windows Desktop       67753.0\n",
       "2  d1mm9tcy42       Other  Windows Desktop         301.0\n",
       "3  d1mm9tcy42       click  Windows Desktop       22141.0\n",
       "4  d1mm9tcy42       Other  Windows Desktop         435.0"
      ]
     },
     "execution_count": 56,
     "metadata": {},
     "output_type": "execute_result"
    }
   ],
   "source": [
    "sessions.head()"
   ]
  },
  {
   "cell_type": "markdown",
   "metadata": {},
   "source": [
    "#6: Findings\n",
    "* The session data has lot of categories for each column. It would be helpful if a dataframe can be built keeping the value counts of each type for each column. \n",
    "\n",
    "For the purpose of this project, let's keep the columns as is, and create dummies and merge it with users."
   ]
  },
  {
   "cell_type": "code",
   "execution_count": 57,
   "metadata": {
    "collapsed": false
   },
   "outputs": [],
   "source": [
    "# Dummies for all session columns:\n",
    "col_names = ['action_type', 'device_type'] #'action', 'action_detail'\n",
    "for c in col_names:\n",
    "    sessions_dummy = pd.get_dummies(sessions[c], prefix=c)\n",
    "    sessions = sessions.drop([c], axis=1)\n",
    "    sessions = pd.concat((sessions, sessions_dummy), axis=1)\n",
    "    \n"
   ]
  },
  {
   "cell_type": "code",
   "execution_count": 58,
   "metadata": {
    "collapsed": false
   },
   "outputs": [
    {
     "data": {
      "text/html": [
       "<div>\n",
       "<table border=\"1\" class=\"dataframe\">\n",
       "  <thead>\n",
       "    <tr style=\"text-align: right;\">\n",
       "      <th></th>\n",
       "      <th>user_id</th>\n",
       "      <th>secs_elapsed</th>\n",
       "      <th>action_type_Other</th>\n",
       "      <th>action_type_booking_request</th>\n",
       "      <th>action_type_booking_response</th>\n",
       "      <th>action_type_click</th>\n",
       "      <th>action_type_data</th>\n",
       "      <th>action_type_message_post</th>\n",
       "      <th>action_type_modify</th>\n",
       "      <th>action_type_partner_callback</th>\n",
       "      <th>...</th>\n",
       "      <th>device_type_Linux Desktop</th>\n",
       "      <th>device_type_Mac Desktop</th>\n",
       "      <th>device_type_Opera Phone</th>\n",
       "      <th>device_type_Other</th>\n",
       "      <th>device_type_Tablet</th>\n",
       "      <th>device_type_Windows Desktop</th>\n",
       "      <th>device_type_Windows Phone</th>\n",
       "      <th>device_type_iPad Tablet</th>\n",
       "      <th>device_type_iPhone</th>\n",
       "      <th>device_type_iPodtouch</th>\n",
       "    </tr>\n",
       "  </thead>\n",
       "  <tbody>\n",
       "    <tr>\n",
       "      <th>0</th>\n",
       "      <td>d1mm9tcy42</td>\n",
       "      <td>319.0</td>\n",
       "      <td>1.0</td>\n",
       "      <td>0.0</td>\n",
       "      <td>0.0</td>\n",
       "      <td>0.0</td>\n",
       "      <td>0.0</td>\n",
       "      <td>0.0</td>\n",
       "      <td>0.0</td>\n",
       "      <td>0.0</td>\n",
       "      <td>...</td>\n",
       "      <td>0.0</td>\n",
       "      <td>0.0</td>\n",
       "      <td>0.0</td>\n",
       "      <td>0.0</td>\n",
       "      <td>0.0</td>\n",
       "      <td>1.0</td>\n",
       "      <td>0.0</td>\n",
       "      <td>0.0</td>\n",
       "      <td>0.0</td>\n",
       "      <td>0.0</td>\n",
       "    </tr>\n",
       "    <tr>\n",
       "      <th>1</th>\n",
       "      <td>d1mm9tcy42</td>\n",
       "      <td>67753.0</td>\n",
       "      <td>0.0</td>\n",
       "      <td>0.0</td>\n",
       "      <td>0.0</td>\n",
       "      <td>1.0</td>\n",
       "      <td>0.0</td>\n",
       "      <td>0.0</td>\n",
       "      <td>0.0</td>\n",
       "      <td>0.0</td>\n",
       "      <td>...</td>\n",
       "      <td>0.0</td>\n",
       "      <td>0.0</td>\n",
       "      <td>0.0</td>\n",
       "      <td>0.0</td>\n",
       "      <td>0.0</td>\n",
       "      <td>1.0</td>\n",
       "      <td>0.0</td>\n",
       "      <td>0.0</td>\n",
       "      <td>0.0</td>\n",
       "      <td>0.0</td>\n",
       "    </tr>\n",
       "    <tr>\n",
       "      <th>2</th>\n",
       "      <td>d1mm9tcy42</td>\n",
       "      <td>301.0</td>\n",
       "      <td>1.0</td>\n",
       "      <td>0.0</td>\n",
       "      <td>0.0</td>\n",
       "      <td>0.0</td>\n",
       "      <td>0.0</td>\n",
       "      <td>0.0</td>\n",
       "      <td>0.0</td>\n",
       "      <td>0.0</td>\n",
       "      <td>...</td>\n",
       "      <td>0.0</td>\n",
       "      <td>0.0</td>\n",
       "      <td>0.0</td>\n",
       "      <td>0.0</td>\n",
       "      <td>0.0</td>\n",
       "      <td>1.0</td>\n",
       "      <td>0.0</td>\n",
       "      <td>0.0</td>\n",
       "      <td>0.0</td>\n",
       "      <td>0.0</td>\n",
       "    </tr>\n",
       "    <tr>\n",
       "      <th>3</th>\n",
       "      <td>d1mm9tcy42</td>\n",
       "      <td>22141.0</td>\n",
       "      <td>0.0</td>\n",
       "      <td>0.0</td>\n",
       "      <td>0.0</td>\n",
       "      <td>1.0</td>\n",
       "      <td>0.0</td>\n",
       "      <td>0.0</td>\n",
       "      <td>0.0</td>\n",
       "      <td>0.0</td>\n",
       "      <td>...</td>\n",
       "      <td>0.0</td>\n",
       "      <td>0.0</td>\n",
       "      <td>0.0</td>\n",
       "      <td>0.0</td>\n",
       "      <td>0.0</td>\n",
       "      <td>1.0</td>\n",
       "      <td>0.0</td>\n",
       "      <td>0.0</td>\n",
       "      <td>0.0</td>\n",
       "      <td>0.0</td>\n",
       "    </tr>\n",
       "    <tr>\n",
       "      <th>4</th>\n",
       "      <td>d1mm9tcy42</td>\n",
       "      <td>435.0</td>\n",
       "      <td>1.0</td>\n",
       "      <td>0.0</td>\n",
       "      <td>0.0</td>\n",
       "      <td>0.0</td>\n",
       "      <td>0.0</td>\n",
       "      <td>0.0</td>\n",
       "      <td>0.0</td>\n",
       "      <td>0.0</td>\n",
       "      <td>...</td>\n",
       "      <td>0.0</td>\n",
       "      <td>0.0</td>\n",
       "      <td>0.0</td>\n",
       "      <td>0.0</td>\n",
       "      <td>0.0</td>\n",
       "      <td>1.0</td>\n",
       "      <td>0.0</td>\n",
       "      <td>0.0</td>\n",
       "      <td>0.0</td>\n",
       "      <td>0.0</td>\n",
       "    </tr>\n",
       "  </tbody>\n",
       "</table>\n",
       "<p>5 rows × 26 columns</p>\n",
       "</div>"
      ],
      "text/plain": [
       "      user_id  secs_elapsed  action_type_Other  action_type_booking_request  \\\n",
       "0  d1mm9tcy42         319.0                1.0                          0.0   \n",
       "1  d1mm9tcy42       67753.0                0.0                          0.0   \n",
       "2  d1mm9tcy42         301.0                1.0                          0.0   \n",
       "3  d1mm9tcy42       22141.0                0.0                          0.0   \n",
       "4  d1mm9tcy42         435.0                1.0                          0.0   \n",
       "\n",
       "   action_type_booking_response  action_type_click  action_type_data  \\\n",
       "0                           0.0                0.0               0.0   \n",
       "1                           0.0                1.0               0.0   \n",
       "2                           0.0                0.0               0.0   \n",
       "3                           0.0                1.0               0.0   \n",
       "4                           0.0                0.0               0.0   \n",
       "\n",
       "   action_type_message_post  action_type_modify  action_type_partner_callback  \\\n",
       "0                       0.0                 0.0                           0.0   \n",
       "1                       0.0                 0.0                           0.0   \n",
       "2                       0.0                 0.0                           0.0   \n",
       "3                       0.0                 0.0                           0.0   \n",
       "4                       0.0                 0.0                           0.0   \n",
       "\n",
       "           ...            device_type_Linux Desktop  device_type_Mac Desktop  \\\n",
       "0          ...                                  0.0                      0.0   \n",
       "1          ...                                  0.0                      0.0   \n",
       "2          ...                                  0.0                      0.0   \n",
       "3          ...                                  0.0                      0.0   \n",
       "4          ...                                  0.0                      0.0   \n",
       "\n",
       "   device_type_Opera Phone  device_type_Other  device_type_Tablet  \\\n",
       "0                      0.0                0.0                 0.0   \n",
       "1                      0.0                0.0                 0.0   \n",
       "2                      0.0                0.0                 0.0   \n",
       "3                      0.0                0.0                 0.0   \n",
       "4                      0.0                0.0                 0.0   \n",
       "\n",
       "   device_type_Windows Desktop  device_type_Windows Phone  \\\n",
       "0                          1.0                        0.0   \n",
       "1                          1.0                        0.0   \n",
       "2                          1.0                        0.0   \n",
       "3                          1.0                        0.0   \n",
       "4                          1.0                        0.0   \n",
       "\n",
       "   device_type_iPad Tablet  device_type_iPhone  device_type_iPodtouch  \n",
       "0                      0.0                 0.0                    0.0  \n",
       "1                      0.0                 0.0                    0.0  \n",
       "2                      0.0                 0.0                    0.0  \n",
       "3                      0.0                 0.0                    0.0  \n",
       "4                      0.0                 0.0                    0.0  \n",
       "\n",
       "[5 rows x 26 columns]"
      ]
     },
     "execution_count": 58,
     "metadata": {},
     "output_type": "execute_result"
    }
   ],
   "source": [
    "sessions.head()"
   ]
  },
  {
   "cell_type": "markdown",
   "metadata": {},
   "source": [
    "# Now both users and sessions data is ready, let's merge them"
   ]
  },
  {
   "cell_type": "code",
   "execution_count": 59,
   "metadata": {
    "collapsed": false
   },
   "outputs": [
    {
     "name": "stdout",
     "output_type": "stream",
     "text": [
      "(1683325, 468)\n"
     ]
    }
   ],
   "source": [
    "all = users.merge(sessions, how='inner', left_on=[\"id\"], right_on=[\"user_id\"])\n",
    "print all.shape"
   ]
  },
  {
   "cell_type": "markdown",
   "metadata": {},
   "source": [
    "# Let's Build a decision tree model "
   ]
  },
  {
   "cell_type": "code",
   "execution_count": 60,
   "metadata": {
    "collapsed": false
   },
   "outputs": [
    {
     "data": {
      "text/plain": [
       "Index([u'id', u'age', u'country_destination', u'dac_year', u'tfa_year',\n",
       "       u'dfb_year', u'dac_month_1', u'dac_month_2', u'dac_month_3',\n",
       "       u'dac_month_4',\n",
       "       ...\n",
       "       u'device_type_Linux Desktop', u'device_type_Mac Desktop',\n",
       "       u'device_type_Opera Phone', u'device_type_Other', u'device_type_Tablet',\n",
       "       u'device_type_Windows Desktop', u'device_type_Windows Phone',\n",
       "       u'device_type_iPad Tablet', u'device_type_iPhone',\n",
       "       u'device_type_iPodtouch'],\n",
       "      dtype='object', length=468)"
      ]
     },
     "execution_count": 60,
     "metadata": {},
     "output_type": "execute_result"
    }
   ],
   "source": [
    "all.columns"
   ]
  },
  {
   "cell_type": "code",
   "execution_count": 61,
   "metadata": {
    "collapsed": false
   },
   "outputs": [],
   "source": [
    "# Let's define predictors and response variable\n",
    "\n",
    "feature_cols = [col for col in all.columns if col not in ['country_destination', 'id', 'user_id']]  # excluding the response variable"
   ]
  },
  {
   "cell_type": "code",
   "execution_count": 66,
   "metadata": {
    "collapsed": false
   },
   "outputs": [],
   "source": [
    "X = all[feature_cols]\n"
   ]
  },
  {
   "cell_type": "code",
   "execution_count": 67,
   "metadata": {
    "collapsed": true
   },
   "outputs": [],
   "source": [
    "y = all.country_destination\n"
   ]
  },
  {
   "cell_type": "code",
   "execution_count": 68,
   "metadata": {
    "collapsed": false
   },
   "outputs": [],
   "source": [
    "X.secs_elapsed.fillna('-1', inplace=True)"
   ]
  },
  {
   "cell_type": "code",
   "execution_count": 69,
   "metadata": {
    "collapsed": true
   },
   "outputs": [],
   "source": [
    "X.to_csv(\"features.csv\", index=False)\n",
    "y.to_csv(\"target.csv\", index=False)"
   ]
  },
  {
   "cell_type": "markdown",
   "metadata": {},
   "source": [
    "## THIS IS THE END OF THIS NOTEBOOK"
   ]
  },
  {
   "cell_type": "code",
   "execution_count": 76,
   "metadata": {
    "collapsed": false
   },
   "outputs": [
    {
     "data": {
      "text/plain": [
       "device_type_iPodtouch     0\n",
       "tfa_wn_9                  0\n",
       "tfa_day_28                0\n",
       "tfa_day_29                0\n",
       "tfa_day_30                0\n",
       "tfa_day_31                0\n",
       "tfa_wn_1                  0\n",
       "tfa_wn_2                  0\n",
       "tfa_wn_3                  0\n",
       "tfa_wn_4                  0\n",
       "tfa_wn_5                  0\n",
       "tfa_wn_6                  0\n",
       "tfa_wn_7                  0\n",
       "tfa_wn_8                  0\n",
       "tfa_wn_10                 0\n",
       "dfb_day_10                0\n",
       "tfa_wn_11                 0\n",
       "tfa_wn_12                 0\n",
       "tfa_wn_13                 0\n",
       "tfa_wn_14                 0\n",
       "tfa_wn_15                 0\n",
       "tfa_wn_16                 0\n",
       "tfa_wn_17                 0\n",
       "tfa_wn_18                 0\n",
       "tfa_wn_19                 0\n",
       "tfa_wn_20                 0\n",
       "tfa_wn_21                 0\n",
       "tfa_wn_22                 0\n",
       "tfa_day_27                0\n",
       "tfa_day_26                0\n",
       "                         ..\n",
       "signup_flow_2             0\n",
       "signup_flow_0             0\n",
       "dfb_wn_39                 0\n",
       "signup_method_google      0\n",
       "dfb_wn_40                 0\n",
       "dfb_wn_41                 0\n",
       "dfb_wn_42                 0\n",
       "dfb_wn_43                 0\n",
       "dfb_wn_44                 0\n",
       "dfb_wn_45                 0\n",
       "dfb_wn_46                 0\n",
       "dfb_wn_47                 0\n",
       "dfb_wn_48                 0\n",
       "dfb_wn_49                 0\n",
       "dfb_wn_50                 0\n",
       "dfb_wn_51                 0\n",
       "dfb_wn_52                 0\n",
       "dfb_wn_53                 0\n",
       "dfb_wd_Friday             0\n",
       "dfb_wd_Monday             0\n",
       "dfb_wd_Saturday           0\n",
       "dfb_wd_Sunday             0\n",
       "dfb_wd_Thursday           0\n",
       "dfb_wd_Tuesday            0\n",
       "dfb_wd_Wednesday          0\n",
       "gender_FEMALE             0\n",
       "gender_MALE               0\n",
       "signup_method_basic       0\n",
       "signup_method_facebook    0\n",
       "age                       0\n",
       "dtype: int64"
      ]
     },
     "execution_count": 76,
     "metadata": {},
     "output_type": "execute_result"
    }
   ],
   "source": [
    "X.isnull().sum().sort_values(ascending=False)"
   ]
  },
  {
   "cell_type": "code",
   "execution_count": 77,
   "metadata": {
    "collapsed": false
   },
   "outputs": [],
   "source": [
    "# Split the data into Training and Test Set\n",
    "from sklearn.cross_validation import train_test_split\n",
    "X_train, X_test, y_train, y_test = train_test_split(X, y)"
   ]
  },
  {
   "cell_type": "code",
   "execution_count": 78,
   "metadata": {
    "collapsed": false
   },
   "outputs": [
    {
     "data": {
      "text/plain": [
       "DecisionTreeClassifier(class_weight=None, criterion='gini', max_depth=3,\n",
       "            max_features=None, max_leaf_nodes=None, min_samples_leaf=1,\n",
       "            min_samples_split=2, min_weight_fraction_leaf=0.0,\n",
       "            random_state=None, splitter='best')"
      ]
     },
     "execution_count": 78,
     "metadata": {},
     "output_type": "execute_result"
    }
   ],
   "source": [
    "# fit a classification tree with max_depth=3 on all data\n",
    "from sklearn.tree import DecisionTreeClassifier\n",
    "treeclf = DecisionTreeClassifier(max_depth=3)\n",
    "treeclf.fit(X_train, y_train)"
   ]
  },
  {
   "cell_type": "code",
   "execution_count": null,
   "metadata": {
    "collapsed": true
   },
   "outputs": [],
   "source": [
    "# create a Graphviz file\n",
    "from sklearn.tree import export_graphviz\n",
    "export_graphviz(treeclf, out_file='tree_user_sessions.dot', feature_names=feature_cols)"
   ]
  },
  {
   "cell_type": "code",
   "execution_count": 1,
   "metadata": {
    "collapsed": false
   },
   "outputs": [
    {
     "ename": "NameError",
     "evalue": "name 'pd' is not defined",
     "output_type": "error",
     "traceback": [
      "\u001b[0;31m---------------------------------------------------------------------------\u001b[0m",
      "\u001b[0;31mNameError\u001b[0m                                 Traceback (most recent call last)",
      "\u001b[0;32m<ipython-input-1-3cddce0592dc>\u001b[0m in \u001b[0;36m<module>\u001b[0;34m()\u001b[0m\n\u001b[1;32m      1\u001b[0m \u001b[0;31m# compute the feature importances\u001b[0m\u001b[0;34m\u001b[0m\u001b[0;34m\u001b[0m\u001b[0m\n\u001b[0;32m----> 2\u001b[0;31m \u001b[0mpd\u001b[0m\u001b[0;34m.\u001b[0m\u001b[0mDataFrame\u001b[0m\u001b[0;34m(\u001b[0m\u001b[0;34m{\u001b[0m\u001b[0;34m'feature'\u001b[0m\u001b[0;34m:\u001b[0m\u001b[0mfeature_cols\u001b[0m\u001b[0;34m,\u001b[0m \u001b[0;34m'importance'\u001b[0m\u001b[0;34m:\u001b[0m\u001b[0mtreeclf\u001b[0m\u001b[0;34m.\u001b[0m\u001b[0mfeature_importances_\u001b[0m\u001b[0;34m}\u001b[0m\u001b[0;34m)\u001b[0m\u001b[0;34m.\u001b[0m\u001b[0msort_values\u001b[0m\u001b[0;34m(\u001b[0m\u001b[0;34m)\u001b[0m\u001b[0;34m\u001b[0m\u001b[0m\n\u001b[0m",
      "\u001b[0;31mNameError\u001b[0m: name 'pd' is not defined"
     ]
    }
   ],
   "source": [
    "# compute the feature importances\n",
    "pd.DataFrame({'feature':feature_cols, 'importance':treeclf.feature_importances_}).sort_index()"
   ]
  },
  {
   "cell_type": "code",
   "execution_count": 80,
   "metadata": {
    "collapsed": false
   },
   "outputs": [
    {
     "data": {
      "text/plain": [
       "array(['US', 'US', 'US', ..., 'US', 'US', 'US'], dtype=object)"
      ]
     },
     "execution_count": 80,
     "metadata": {},
     "output_type": "execute_result"
    }
   ],
   "source": [
    "# making prediction on test set\n",
    "preds = treeclf.predict(X_test)\n",
    "preds\n",
    "#treeclf.classes_ # to known the predicted classes(response variables)"
   ]
  },
  {
   "cell_type": "code",
   "execution_count": 81,
   "metadata": {
    "collapsed": false
   },
   "outputs": [
    {
     "data": {
      "text/plain": [
       "0.69966875142574714"
      ]
     },
     "execution_count": 81,
     "metadata": {},
     "output_type": "execute_result"
    }
   ],
   "source": [
    "# Calculate Accuracy:\n",
    "from sklearn import metrics\n",
    "metrics.accuracy_score(y_test, preds)"
   ]
  },
  {
   "cell_type": "code",
   "execution_count": 82,
   "metadata": {
    "collapsed": false
   },
   "outputs": [
    {
     "data": {
      "text/html": [
       "<div>\n",
       "<table border=\"1\" class=\"dataframe\">\n",
       "  <thead>\n",
       "    <tr style=\"text-align: right;\">\n",
       "      <th>predicted</th>\n",
       "      <th>CA</th>\n",
       "      <th>GB</th>\n",
       "      <th>US</th>\n",
       "    </tr>\n",
       "    <tr>\n",
       "      <th>actual</th>\n",
       "      <th></th>\n",
       "      <th></th>\n",
       "      <th></th>\n",
       "    </tr>\n",
       "  </thead>\n",
       "  <tbody>\n",
       "    <tr>\n",
       "      <th>AU</th>\n",
       "      <td>0</td>\n",
       "      <td>0</td>\n",
       "      <td>2176</td>\n",
       "    </tr>\n",
       "    <tr>\n",
       "      <th>CA</th>\n",
       "      <td>219</td>\n",
       "      <td>29</td>\n",
       "      <td>6115</td>\n",
       "    </tr>\n",
       "    <tr>\n",
       "      <th>DE</th>\n",
       "      <td>15</td>\n",
       "      <td>0</td>\n",
       "      <td>4169</td>\n",
       "    </tr>\n",
       "    <tr>\n",
       "      <th>ES</th>\n",
       "      <td>0</td>\n",
       "      <td>2</td>\n",
       "      <td>10301</td>\n",
       "    </tr>\n",
       "    <tr>\n",
       "      <th>FR</th>\n",
       "      <td>0</td>\n",
       "      <td>139</td>\n",
       "      <td>23107</td>\n",
       "    </tr>\n",
       "    <tr>\n",
       "      <th>GB</th>\n",
       "      <td>0</td>\n",
       "      <td>451</td>\n",
       "      <td>9968</td>\n",
       "    </tr>\n",
       "    <tr>\n",
       "      <th>IT</th>\n",
       "      <td>0</td>\n",
       "      <td>307</td>\n",
       "      <td>15066</td>\n",
       "    </tr>\n",
       "    <tr>\n",
       "      <th>NL</th>\n",
       "      <td>0</td>\n",
       "      <td>0</td>\n",
       "      <td>3522</td>\n",
       "    </tr>\n",
       "    <tr>\n",
       "      <th>PT</th>\n",
       "      <td>0</td>\n",
       "      <td>0</td>\n",
       "      <td>1067</td>\n",
       "    </tr>\n",
       "    <tr>\n",
       "      <th>US</th>\n",
       "      <td>0</td>\n",
       "      <td>262</td>\n",
       "      <td>293773</td>\n",
       "    </tr>\n",
       "    <tr>\n",
       "      <th>other</th>\n",
       "      <td>0</td>\n",
       "      <td>57</td>\n",
       "      <td>50087</td>\n",
       "    </tr>\n",
       "  </tbody>\n",
       "</table>\n",
       "</div>"
      ],
      "text/plain": [
       "predicted   CA   GB      US\n",
       "actual                     \n",
       "AU           0    0    2176\n",
       "CA         219   29    6115\n",
       "DE          15    0    4169\n",
       "ES           0    2   10301\n",
       "FR           0  139   23107\n",
       "GB           0  451    9968\n",
       "IT           0  307   15066\n",
       "NL           0    0    3522\n",
       "PT           0    0    1067\n",
       "US           0  262  293773\n",
       "other        0   57   50087"
      ]
     },
     "execution_count": 82,
     "metadata": {},
     "output_type": "execute_result"
    }
   ],
   "source": [
    "#confusion matrix:\n",
    "pd.crosstab(y_test, preds, rownames=['actual'], colnames=['predicted'])"
   ]
  },
  {
   "cell_type": "code",
   "execution_count": 83,
   "metadata": {
    "collapsed": false
   },
   "outputs": [
    {
     "data": {
      "text/plain": [
       "array([ 0.01312647,  0.01571515,  0.02477694, ...,  0.01312647,\n",
       "        0.01312647,  0.01312647])"
      ]
     },
     "execution_count": 83,
     "metadata": {},
     "output_type": "execute_result"
    }
   ],
   "source": [
    "# make predictions on test set using predict proba\n",
    "probs = treeclf.predict_proba(X_test)[:,1]\n",
    "probs"
   ]
  },
  {
   "cell_type": "markdown",
   "metadata": {},
   "source": [
    "# Cross-Validation with Logisitcs Regression\n",
    "since decision tree is high variance to better estimate the out of sample error"
   ]
  },
  {
   "cell_type": "code",
   "execution_count": 84,
   "metadata": {
    "collapsed": true
   },
   "outputs": [],
   "source": [
    "# With Logistic Regression:\n",
    "from sklearn.linear_model import LogisticRegression\n",
    "logreg = LogisticRegression()\n",
    "treeclf = DecisionTreeClassifier(max_depth=5)"
   ]
  },
  {
   "cell_type": "code",
   "execution_count": null,
   "metadata": {
    "collapsed": true
   },
   "outputs": [],
   "source": [
    "#Compare AUC using cross-validation:\n",
    "from sklearn.cross_validation import cross_val_score\n",
    "\n",
    "# Logistics Regression\n",
    "cross_val_score(logreg, X, y, cv=10, scoring = 'accuracy').mean()"
   ]
  },
  {
   "cell_type": "code",
   "execution_count": null,
   "metadata": {
    "collapsed": true
   },
   "outputs": [],
   "source": [
    "# Decision Tree\n",
    "cross_val_score(treeclf, X, y, cv=10, scoring = 'accuracy').mean()"
   ]
  },
  {
   "cell_type": "markdown",
   "metadata": {},
   "source": [
    "# Fine tuning the decision tree"
   ]
  },
  {
   "cell_type": "code",
   "execution_count": null,
   "metadata": {
    "collapsed": true
   },
   "outputs": [],
   "source": [
    "#Conduct a grid search for best tree depth (max_depth)\n",
    "from sklearn.grid_search import GridSearchCV\n",
    "treeclf = DecisionTreeClassifier()\n",
    "depth_range = range(1, 20)\n",
    "param_grid = dict(max_depth=depth_range)\n",
    "grid = GridSearchCV(treeclf, param_grid, cv=5, scoring = 'accuracy')\n",
    "grid.fit(X, y)\n"
   ]
  },
  {
   "cell_type": "code",
   "execution_count": null,
   "metadata": {
    "collapsed": true
   },
   "outputs": [],
   "source": [
    "grid_mean_scores = [result[1] for result in grid.grid_scores_]"
   ]
  },
  {
   "cell_type": "code",
   "execution_count": null,
   "metadata": {
    "collapsed": true
   },
   "outputs": [],
   "source": [
    "#plot the result of the grid search:\n",
    "plt.figure()\n",
    "plt.plot(depth_range, grid_mean_scores)"
   ]
  },
  {
   "cell_type": "markdown",
   "metadata": {},
   "source": [
    "# Customizing criterions to find max depth"
   ]
  },
  {
   "cell_type": "code",
   "execution_count": null,
   "metadata": {
    "collapsed": true
   },
   "outputs": [],
   "source": [
    "#Conduct a grid search for best tree depth (max_depth)\n",
    "from sklearn.grid_search import GridSearchCV\n",
    "treeclf = DecisionTreeClassifier()\n",
    "depth_range = range(1, 20)\n",
    "criterion_range = ['gini', 'entropy']\n",
    "#max_feature_range = range(1,5)\n",
    "param_grid = dict(max_depth=depth_range, criterion=criterion_range) \n",
    "grid = GridSearchCV(treeclf, param_grid, cv=5, scoring = 'accuracy')\n",
    "grid.fit(X, y)\n",
    "\n",
    "# mean scores\n",
    "grid_mean_scores = [result[1] for result in grid.grid_scores_]"
   ]
  },
  {
   "cell_type": "code",
   "execution_count": null,
   "metadata": {
    "collapsed": true
   },
   "outputs": [],
   "source": [
    "#best estimator\n",
    "best = grid.best_estimator_"
   ]
  },
  {
   "cell_type": "code",
   "execution_count": null,
   "metadata": {
    "collapsed": true
   },
   "outputs": [],
   "source": [
    "# compare the cross_val scores\n",
    "# Decision Tree\n",
    "cross_val_score(best, X, y, cv=10, scoring = 'accuracy').mean()"
   ]
  }
 ],
 "metadata": {
  "kernelspec": {
   "display_name": "Python 2",
   "language": "python",
   "name": "python2"
  },
  "language_info": {
   "codemirror_mode": {
    "name": "ipython",
    "version": 2
   },
   "file_extension": ".py",
   "mimetype": "text/x-python",
   "name": "python",
   "nbconvert_exporter": "python",
   "pygments_lexer": "ipython2",
   "version": "2.7.11"
  }
 },
 "nbformat": 4,
 "nbformat_minor": 0
}
